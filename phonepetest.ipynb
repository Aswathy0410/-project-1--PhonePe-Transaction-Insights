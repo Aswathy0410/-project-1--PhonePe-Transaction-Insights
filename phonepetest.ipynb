{
 "cells": [
  {
   "cell_type": "code",
   "execution_count": 16,
   "id": "8e89261c",
   "metadata": {},
   "outputs": [],
   "source": [
    "import os, json\n",
    "import pandas as pd\n",
    "import plotly.express as px\n",
    "import requests\n",
    "\n",
    "#agg transaction data\n",
    "path1  =  \"F:/MDTM46B/Phonepe/data/aggregated/transaction/country/india/state/\"\n",
    "Agg_list  =  os.listdir(path1)\n",
    "\n",
    "clm1 = {'State':[], 'Year':[],'Quater':[],'Transaction_type':[], 'Transaction_count':[], 'Transaction_amount':[]}\n",
    "for state in Agg_list:\n",
    "    state1 = path1+state+\"/\"\n",
    "    Agg_yr = os.listdir(state1)\n",
    "    for year in Agg_yr:\n",
    "        year1 = state1+year+\"/\"\n",
    "        Agg_yr_list = os.listdir(year1)\n",
    "        for data in Agg_yr_list:\n",
    "            data1 = year1+data\n",
    "            Data = open(data1,'r')\n",
    "            D = json.load(Data)\n",
    "            for z in D['data']['transactionData']:\n",
    "              Name = z['name']\n",
    "              count = z['paymentInstruments'][0]['count']\n",
    "              amount = z['paymentInstruments'][0]['amount']\n",
    "              clm1['Transaction_type'].append(Name)\n",
    "              clm1['Transaction_count'].append(count)\n",
    "              clm1['Transaction_amount'].append(amount)\n",
    "              clm1['State'].append(state)\n",
    "              clm1['Year'].append(year)\n",
    "              clm1['Quater'].append(int(data.strip('.json')))\n",
    "# #Succesfully created a dataframe\n",
    "Agg_Trans = pd.DataFrame(clm1)\n",
    "Agg_Trans[\"State\"] = Agg_Trans[\"State\"].str.replace(\"andaman-&-nicobar-islands\",\"Andaman & Nicobar\")\n",
    "Agg_Trans[\"State\"] = Agg_Trans[\"State\"].str.replace(\"-\",\" \")\n",
    "Agg_Trans[\"State\"] = Agg_Trans[\"State\"].str.title()\n",
    "Agg_Trans['State'] = Agg_Trans['State'].str.replace(\"Dadra & Nagar Haveli & Daman & Diu\", \"Dadra and Nagar Haveli and Daman and Diu\")\n",
    "# print(Agg_Trans)\n",
    "\n",
    "#agg insurance data\n",
    "path2  =  \"F:/MDTM46B/Phonepe/data/aggregated/insurance/country/india/state/\"\n",
    "Agg_insure_list  =  os.listdir(path2)\n",
    "\n",
    "clm2 = {'State':[], 'Year':[],'Quater':[],'Insurance_type':[], 'Insurance_count':[], 'Insurance_amount':[]}\n",
    "for state in Agg_insure_list:\n",
    "    state2 = path2+state+\"/\"\n",
    "    Agg_yr = os.listdir(state2)\n",
    "    for year in Agg_yr:\n",
    "        year2 = state2+year+\"/\"\n",
    "        Agg_yr_list = os.listdir(year2)\n",
    "        for data in Agg_yr_list:\n",
    "            data2 = year2+data\n",
    "            Data = open(data2,'r')\n",
    "            E = json.load(Data)\n",
    "            for z in E['data']['transactionData']:\n",
    "              Name = z['name']\n",
    "              count = z['paymentInstruments'][0]['count']\n",
    "              amount = z['paymentInstruments'][0]['amount']\n",
    "              clm2['Insurance_type'].append(Name)\n",
    "              clm2['Insurance_count'].append(count)\n",
    "              clm2['Insurance_amount'].append(amount)\n",
    "              clm2['State'].append(state)\n",
    "              clm2['Year'].append(year)\n",
    "              clm2['Quater'].append(int(data.strip('.json')))\n",
    "#Succesfully created a dataframe\n",
    "Agg_insur = pd.DataFrame(clm2)\n",
    "Agg_insur[\"State\"] = Agg_insur[\"State\"].str.replace(\"andaman-&-nicobar-islands\",\"Andaman & Nicobar\")\n",
    "Agg_insur[\"State\"] = Agg_insur[\"State\"].str.replace(\"-\",\" \")\n",
    "Agg_insur[\"State\"] = Agg_insur[\"State\"].str.title()\n",
    "Agg_insur['State'] = Agg_insur['State'].str.replace(\"Dadra & Nagar Haveli & Daman & Diu\", \"Dadra and Nagar Haveli and Daman and Diu\")\n",
    "# print(Agg_insur)\n",
    "\n",
    "#agg user data\n",
    "path3  =  \"F:/MDTM46B/Phonepe/data/aggregated/user/country/india/state/\"\n",
    "Agg_user_list  =  os.listdir(path3)\n",
    "\n",
    "clm3 = {'State':[], 'Year':[],'Quater':[],'Brands':[], 'User_count':[], 'Percentage':[]}\n",
    "for state in Agg_user_list:\n",
    "    state3 = path3+state+\"/\"\n",
    "    Agg_yr = os.listdir(state3)\n",
    "    for year in Agg_yr:\n",
    "        year3 = state3+year+\"/\"\n",
    "        Agg_yr_list = os.listdir(year3)\n",
    "        for data in Agg_yr_list:\n",
    "            data3 = year3+data\n",
    "            Data = open(data3,'r')\n",
    "            F = json.load(Data)\n",
    "            if F.get('data') and F['data'].get('usersByDevice'):\n",
    "             for z in F['data']['usersByDevice']:\n",
    "              Brands = z['brand']\n",
    "              count = z['count']\n",
    "              percentage = z['percentage']\n",
    "              clm3['Brands'].append(Brands)\n",
    "              clm3['User_count'].append(count)\n",
    "              clm3['Percentage'].append(percentage)\n",
    "              clm3['State'].append(state)\n",
    "              clm3['Year'].append(year)\n",
    "              clm3['Quater'].append(int(data.strip('.json')))\n",
    "#Succesfully created a dataframe\n",
    "Agg_user = pd.DataFrame(clm3)\n",
    "Agg_user[\"State\"] = Agg_user[\"State\"].str.replace(\"andaman-&-nicobar-islands\",\"Andaman & Nicobar\")\n",
    "Agg_user[\"State\"] = Agg_user[\"State\"].str.replace(\"-\",\" \")\n",
    "Agg_user[\"State\"] = Agg_user[\"State\"].str.title()\n",
    "Agg_user['State'] = Agg_user['State'].str.replace(\"Dadra & Nagar Haveli & Daman & Diu\", \"Dadra and Nagar Haveli and Daman and Diu\")\n",
    "# print(Agg_user)\n",
    "\n",
    "#Map transaction data\n",
    "path4  =  \"F:/MDTM46B/Phonepe/data/map/transaction/hover/country/india/state/\"\n",
    "Map_list  =  os.listdir(path4)\n",
    "\n",
    "clm4 = {'State':[], 'Year':[],'Quater':[],'District':[], 'Transaction_count':[], 'Transaction_amount':[]}\n",
    "for state in Map_list:\n",
    "    state4 = path4+state+\"/\"\n",
    "    Map_yr = os.listdir(state4)\n",
    "    for year in Map_yr:\n",
    "        year4 = state4+year+\"/\"\n",
    "        Map_yr_list = os.listdir(year4)\n",
    "        for data in Map_yr_list:\n",
    "            data4 = year4+data\n",
    "            Data = open(data4,'r')\n",
    "            G = json.load(Data)\n",
    "            for z in G['data']['hoverDataList']:\n",
    "              Name = z['name']\n",
    "              count = z['metric'][0]['count']\n",
    "              amount = z['metric'][0]['amount']\n",
    "              clm4['District'].append(Name)\n",
    "              clm4['Transaction_count'].append(count)\n",
    "              clm4['Transaction_amount'].append(amount)\n",
    "              clm4['State'].append(state)\n",
    "              clm4['Year'].append(year)\n",
    "              clm4['Quater'].append(int(data.strip('.json')))\n",
    "#Succesfully created a dataframe\n",
    "Map_trans = pd.DataFrame(clm4)\n",
    "Map_trans[\"State\"] = Map_trans[\"State\"].str.replace(\"andaman-&-nicobar-islands\",\"Andaman & Nicobar\")\n",
    "Map_trans[\"State\"] = Map_trans[\"State\"].str.replace(\"-\",\" \")\n",
    "Map_trans[\"State\"] = Map_trans[\"State\"].str.title()\n",
    "Map_trans['State'] = Map_trans['State'].str.replace(\"Dadra & Nagar Haveli & Daman & Diu\", \"Dadra and Nagar Haveli and Daman and Diu\")\n",
    "# print(Map_trans)\n",
    "\n",
    "#Map Insurance data\n",
    "path5 =  \"F:/MDTM46B/Phonepe/data/map/insurance/hover/country/india/state/\"\n",
    "Map_Insure_list  =  os.listdir(path5)\n",
    "\n",
    "clm5 = {'State':[], 'Year':[],'Quater':[],'District':[], 'Insurance_count':[], 'Insurance_amount':[]}\n",
    "for state in Map_Insure_list:\n",
    "    state5 = path5+state+\"/\"\n",
    "   \n",
    "    Map_yr = os.listdir(state5)\n",
    "    for year in Map_yr:\n",
    "        year5 = state5+year+\"/\"\n",
    "        Map_yr_list = os.listdir(year5)\n",
    "        for data in Map_yr_list:\n",
    "            data5 = year5+data\n",
    "            Data = open(data5,'r')\n",
    "            H = json.load(Data)\n",
    "            for z in H['data']['hoverDataList']:\n",
    "              Name = z['name']\n",
    "              count = z['metric'][0]['count']\n",
    "              amount = z['metric'][0]['amount']\n",
    "              clm5['District'].append(Name)\n",
    "              clm5['Insurance_count'].append(count)\n",
    "              clm5['Insurance_amount'].append(amount)\n",
    "              clm5['State'].append(state)\n",
    "              clm5['Year'].append(year)\n",
    "              clm5['Quater'].append(int(data.strip('.json')))\n",
    "#Succesfully created a dataframe\n",
    "Map_insur = pd.DataFrame(clm5)\n",
    "Map_insur[\"State\"] = Map_insur[\"State\"].str.replace(\"andaman-&-nicobar-islands\",\"Andaman & Nicobar\")\n",
    "Map_insur[\"State\"] = Map_insur[\"State\"].str.replace(\"-\",\" \")\n",
    "Map_insur[\"State\"] = Map_insur[\"State\"].str.title()\n",
    "Map_insur['State'] = Map_insur['State'].str.replace(\"Dadra & Nagar Haveli & Daman & Diu\", \"Dadra and Nagar Haveli and Daman and Diu\")\n",
    "# print(Map_insur)\n",
    "\n",
    "# Map User data\n",
    "path6 =  \"F:/MDTM46B/Phonepe/data/map/user/hover/country/india/state/\"\n",
    "Map_User_list  =  os.listdir(path6)\n",
    "\n",
    "clm6 = {'State':[], 'Year':[],'Quater':[],'District':[], 'RegisteredUsers':[], 'AppOpens':[]}\n",
    "for state in Map_User_list:\n",
    "    state6 = path6+state+\"/\"\n",
    "   \n",
    "    Map_yr = os.listdir(state6)\n",
    "    for year in Map_yr:\n",
    "        year6 = state6+year+\"/\"\n",
    "        Map_yr_list = os.listdir(year6)\n",
    "        for data in Map_yr_list:\n",
    "            data6 = year6+data\n",
    "            Data = open(data6,'r')\n",
    "            I = json.load(Data)\n",
    "            for district, info in I['data']['hoverData'].items():\n",
    "              registeredUsers = info['registeredUsers']\n",
    "              appOpens = info['appOpens']\n",
    "              clm6['District'].append(district)\n",
    "              clm6['RegisteredUsers'].append(registeredUsers)\n",
    "              clm6['AppOpens'].append(appOpens)\n",
    "              clm6['State'].append(state)\n",
    "              clm6['Year'].append(year)\n",
    "              clm6['Quater'].append(int(data.strip('.json')))\n",
    "#Succesfully created a dataframe\n",
    "Map_users = pd.DataFrame(clm6)\n",
    "Map_users[\"State\"] = Map_users[\"State\"].str.replace(\"andaman-&-nicobar-islands\",\"Andaman & Nicobar\")\n",
    "Map_users[\"State\"] = Map_users[\"State\"].str.replace(\"-\",\" \")\n",
    "Map_users[\"State\"] = Map_users[\"State\"].str.title()\n",
    "Map_users['State'] = Map_users['State'].str.replace(\"Dadra & Nagar Haveli & Daman & Diu\", \"Dadra and Nagar Haveli and Daman and Diu\")\n",
    "# print(Map_users)\n",
    "\n",
    "#Top transaction data\n",
    "path7  =  \"F:/MDTM46B/Phonepe/data/top/transaction/country/india/state/\"\n",
    "Top8_list  =  os.listdir(path7)\n",
    "\n",
    "clm7 = {'State':[], 'Year':[],'Quater':[], 'Entity_Level':[], 'Entity_Name': [], 'Transaction_count':[], 'Transaction_amount':[]}\n",
    "for state in Top8_list:\n",
    "    state7 = path7+state+\"/\"\n",
    "    Top_yr = os.listdir(state7)\n",
    "    for year in Top_yr:\n",
    "        year7 = state7+year+\"/\"\n",
    "        Top_yr_list = os.listdir(year7)\n",
    "        for data in Top_yr_list:\n",
    "            data7 = os.path.join(year7, data)\n",
    "            with open(data7, 'r') as f:\n",
    "             J = json.load(f)\n",
    "            for z in J['data']['districts']:\n",
    "              entityName = z['entityName']\n",
    "              count = z['metric']['count']\n",
    "              amount = z['metric']['amount']\n",
    "              clm7['Entity_Level'].append('district')\n",
    "              clm7['Entity_Name'].append(entityName)\n",
    "              clm7['Transaction_count'].append(count)\n",
    "              clm7['Transaction_amount'].append(amount)\n",
    "              clm7['State'].append(state)\n",
    "              clm7['Year'].append(year)\n",
    "              clm7['Quater'].append(int(data.strip('.json')))\n",
    "\n",
    "              for z in J['data']['pincodes']:\n",
    "                clm7['State'].append(state)\n",
    "                clm7['Year'].append(year)\n",
    "                clm7['Quater'].append(int(data.strip('.json')))\n",
    "                clm7['Entity_Level'].append('pincode')\n",
    "                clm7['Entity_Name'].append(z['entityName'])\n",
    "                clm7['Transaction_count'].append(z['metric']['count'])\n",
    "                clm7['Transaction_amount'].append(z['metric']['amount'])\n",
    "#Succesfully created a dataframe\n",
    "Top_trans = pd.DataFrame(clm7)\n",
    "Top_trans[\"State\"] = Top_trans[\"State\"].str.replace(\"andaman-&-nicobar-islands\",\"Andaman & Nicobar\")\n",
    "Top_trans[\"State\"] = Top_trans[\"State\"].str.replace(\"-\",\" \")\n",
    "Top_trans[\"State\"] = Top_trans[\"State\"].str.title()\n",
    "Top_trans['State'] = Top_trans['State'].str.replace(\"Dadra & Nagar Haveli & Daman & Diu\", \"Dadra and Nagar Haveli and Daman and Diu\")\n",
    "# print(Top_trans)\n",
    "\n",
    "#Top Insurance data\n",
    "path8  =  \"F:/MDTM46B/Phonepe/data/top/insurance/country/india/state/\"\n",
    "Top_insure_list = os.listdir(path8)\n",
    "\n",
    "clm8 = {'State':[], 'Year':[],'Quater':[], 'Entity_Level':[], 'Entity_Name':[], 'Insurance_count':[], 'Insurance_amount':[]}\n",
    "for state in Top_insure_list:\n",
    "    state8 = path8+state+\"/\"\n",
    "    Top_yr = os.listdir(state8)\n",
    "    for year in Top_yr:\n",
    "        year8 = state8+year+\"/\"\n",
    "        Top_yr_list = os.listdir(year8)\n",
    "        for data in Top_yr_list:\n",
    "            data8 = year8+data\n",
    "            Data = open(data8,'r')\n",
    "            K = json.load(Data)\n",
    "            for z in K['data']['districts']:\n",
    "              entityName = z['entityName']\n",
    "              count = z['metric']['count']\n",
    "              amount = z['metric']['amount']\n",
    "              clm8['Entity_Name'].append(entityName)\n",
    "              clm8['Entity_Level'].append('district')\n",
    "              clm8['Insurance_count'].append(count)\n",
    "              clm8['Insurance_amount'].append(amount)\n",
    "              clm8['State'].append(state)\n",
    "              clm8['Year'].append(year)\n",
    "              clm8['Quater'].append(int(data.strip('.json')))\n",
    "\n",
    "              for z in K['data']['pincodes']:\n",
    "                clm8['State'].append(state)\n",
    "                clm8['Year'].append(year)\n",
    "                clm8['Quater'].append(int(data.strip('.json')))\n",
    "                clm8['Entity_Level'].append('pincode')\n",
    "                clm8['Entity_Name'].append(z['entityName'])\n",
    "                clm8['Insurance_count'].append(z['metric']['count'])\n",
    "                clm8['Insurance_amount'].append(z['metric']['amount'])\n",
    "#Succesfully created a dataframe\n",
    "Top_insur = pd.DataFrame(clm8)\n",
    "Top_insur[\"State\"] =Top_insur[\"State\"].str.replace(\"andaman-&-nicobar-islands\",\"Andaman & Nicobar\")\n",
    "Top_insur[\"State\"] = Top_insur[\"State\"].str.replace(\"-\",\" \")\n",
    "Top_insur[\"State\"] = Top_insur[\"State\"].str.title()\n",
    "Top_insur['State'] = Top_insur['State'].str.replace(\"Dadra & Nagar Haveli & Daman & Diu\", \"Dadra and Nagar Haveli and Daman and Diu\")\n",
    "# print(Top_insur)\n",
    "\n",
    "# # Top user data\n",
    "path9 =  \"F:/MDTM46B/Phonepe/data/top/user/country/india/state/\"\n",
    "Top_user_list  =  os.listdir(path9)\n",
    "\n",
    "clm9 = {'State':[], 'Year':[],'Quater':[],'Entity_Level':[], 'Name':[], 'Registered_Users':[]}\n",
    "for state in Top_user_list:\n",
    "    state9= path9+state+\"/\"\n",
    "    Top_yr = os.listdir(state9)\n",
    "    for year in Top_yr:\n",
    "        year8 = state9+year+\"/\"\n",
    "        Top_yr_list = os.listdir(year8)\n",
    "        for data in Top_yr_list:\n",
    "            data9 = year8+data\n",
    "            Data = open(data9,'r')\n",
    "            L = json.load(Data)\n",
    "            for z in L['data']['districts']:\n",
    "              Name = z['name']\n",
    "              registeredUsers = z['registeredUsers']\n",
    "              clm9['Name'].append(Name)\n",
    "              clm9['Entity_Level'].append('district')\n",
    "              clm9['Registered_Users'].append(registeredUsers)\n",
    "              clm9['State'].append(state)\n",
    "              clm9['Year'].append(year)\n",
    "              clm9['Quater'].append(int(data.strip('.json')))\n",
    "\n",
    "            for z in L['data']['pincodes']:\n",
    "               Name = z['name']\n",
    "               registeredUsers = z['registeredUsers']\n",
    "               clm9['Name'].append(Name)\n",
    "               clm9['Entity_Level'].append('pincode')\n",
    "               clm9['Registered_Users'].append(registeredUsers)\n",
    "               clm9['State'].append(state)\n",
    "               clm9['Year'].append(year)\n",
    "               clm9['Quater'].append(int(data.strip('.json')))\n",
    "#Succesfully created a dataframe\n",
    "Top_users = pd.DataFrame(clm9)\n",
    "Top_users[\"State\"] = Top_users[\"State\"].str.replace(\"andaman-&-nicobar-islands\",\"Andaman & Nicobar\")\n",
    "Top_users[\"State\"] = Top_users[\"State\"].str.replace(\"-\",\" \")\n",
    "Top_users[\"State\"] = Top_users[\"State\"].str.title()\n",
    "Top_users['State'] = Top_users['State'].str.replace(\"Dadra & Nagar Haveli & Daman & Diu\", \"Dadra and Nagar Haveli and Daman and Diu\")\n",
    "# print(Top_users)\n",
    "\n",
    "\n"
   ]
  },
  {
   "cell_type": "code",
   "execution_count": 6,
   "id": "c4f30039",
   "metadata": {},
   "outputs": [
    {
     "name": "stdout",
     "output_type": "stream",
     "text": [
      "Agg_Trans= Index(['State', 'Year', 'Quater', 'Transaction_type', 'Transaction_count',\n",
      "       'Transaction_amount'],\n",
      "      dtype='object')\n",
      "Agg_insur= Index(['State', 'Year', 'Quater', 'Insurance_type', 'Insurance_count',\n",
      "       'Insurance_amount'],\n",
      "      dtype='object')\n",
      "Agg_user= Index(['State', 'Year', 'Quater', 'Brands', 'User_count', 'Percentage'], dtype='object')\n",
      "Map_trans= Index(['State', 'Year', 'Quater', 'District', 'Transaction_count',\n",
      "       'Transaction_amount'],\n",
      "      dtype='object')\n",
      "Map_insur= Index(['State', 'Year', 'Quater', 'District', 'Insurance_count',\n",
      "       'Insurance_amount'],\n",
      "      dtype='object')\n",
      "Map_users= Index(['State', 'Year', 'Quater', 'District', 'RegisteredUsers', 'AppOpens'], dtype='object')\n",
      "Top_trans= Index(['State', 'Year', 'Quater', 'Entity_Level', 'Entity_Name',\n",
      "       'Transaction_count', 'Transaction_amount'],\n",
      "      dtype='object')\n",
      "Top_insur= Index(['State', 'Year', 'Quater', 'Entity_Level', 'Entity_Name',\n",
      "       'Insurance_count', 'Insurance_amount'],\n",
      "      dtype='object')\n",
      "Top_users= Index(['State', 'Year', 'Quater', 'Entity_Level', 'Name', 'Registered_Users'], dtype='object')\n"
     ]
    }
   ],
   "source": [
    "print('Agg_Trans=',Agg_Trans.columns)\n",
    "print('Agg_insur=',Agg_insur.columns)\n",
    "print('Agg_user=',Agg_user.columns)\n",
    "print('Map_trans=',Map_trans.columns)\n",
    "print('Map_insur=',Map_insur.columns)\n",
    "print('Map_users=',Map_users.columns)\n",
    "print('Top_trans=',Top_trans.columns)\n",
    "print('Top_insur=',Top_insur.columns)\n",
    "print('Top_users=',Top_users.columns)"
   ]
  },
  {
   "cell_type": "code",
   "execution_count": null,
   "id": "69f3b4da",
   "metadata": {},
   "outputs": [],
   "source": [
    "#Table creation\n",
    "#mysql connection\n",
    "import pymysql\n",
    "\n",
    "# Connection Parameters\n",
    "connection = pymysql.connect(\n",
    "         host = 'localhost',\n",
    "         user = 'root',\n",
    "         password = '12345',\n",
    "         database = 'phonepe')\n",
    "\n",
    "#cursor creation\n",
    "cursor = connection.cursor()\n",
    "\n",
    "#agg table creation\n",
    "# create_query_1 = '''CREATE TABLE if not exists aggregated_transaction(State varchar(255),\n",
    "#                                                       Year int,\n",
    "#                                                       Quater int,\n",
    "#                                                       Transaction_type varchar(255),\n",
    "#                                                       Transaction_count double,\n",
    "#                                                       Transaction_amount double)'''\n",
    "\n",
    "# cursor.execute(create_query_1)\n",
    "# connection.commit()\n",
    "\n",
    "# insert_query_1 ='''INSERT INTO aggregated_transaction(State, Year, Quater, Transaction_type, Transaction_count,\n",
    "#                                                      Transaction_amount)\n",
    "                                                     \n",
    "#                                                      values(%s,%s,%s,%s,%s,%s)'''\n",
    "# data = Agg_Trans.values.tolist()\n",
    "# cursor.executemany(insert_query_1,data)\n",
    "# connection.commit()\n",
    "\n",
    "#agg insurance table\n",
    "# create_query_2 = '''CREATE TABLE if not exists aggregated_insurance(State varchar(255),\n",
    "#                                                       Year int,\n",
    "#                                                       Quater int,\n",
    "#                                                       Insurance_type varchar(255),\n",
    "#                                                       Insurance_count double,\n",
    "#                                                       Insurance_amount double)'''\n",
    "\n",
    "# cursor.execute(create_query_2)\n",
    "# connection.commit()\n",
    "\n",
    "# insert_query_2 ='''INSERT INTO aggregated_insurance(State, Year, Quater, Insurance_type, Insurance_count,\n",
    "#                                                      Insurance_amount)\n",
    "                                                     \n",
    "#                                                      values(%s,%s,%s,%s,%s,%s)'''\n",
    "# data = Agg_insur.values.tolist()\n",
    "# cursor.executemany(insert_query_2,data)\n",
    "# connection.commit()\n",
    "\n",
    "#agg user table\n",
    "# create_query_3 = '''CREATE TABLE if not exists aggregated_user(State varchar(255),\n",
    "#                                                       Year int,\n",
    "#                                                       Quater int,\n",
    "#                                                       Brands varchar(255),\n",
    "#                                                       User_count double,\n",
    "#                                                       Percentage float)'''\n",
    "\n",
    "# cursor.execute(create_query_3)\n",
    "# connection.commit()\n",
    "\n",
    "# insert_query_3 ='''INSERT INTO aggregated_user(State, Year, Quater, Brands, User_count,\n",
    "#                                                      Percentage)\n",
    "                                                     \n",
    "#                                                      values(%s,%s,%s,%s,%s,%s)'''\n",
    "# data = Agg_user.values.tolist()\n",
    "# cursor.executemany(insert_query_3,data)\n",
    "# connection.commit()\n",
    "\n",
    "#map transaction table\n",
    "# create_query_4 = '''CREATE TABLE if not exists map_transaction(State varchar(255),\n",
    "#                                                       Year int,\n",
    "#                                                       Quater int,\n",
    "#                                                       District varchar(255),\n",
    "#                                                       Transacion_count double,\n",
    "#                                                       Transacion_amount double)'''\n",
    "\n",
    "# cursor.execute(create_query_4)\n",
    "# connection.commit()\n",
    "\n",
    "# insert_query_4 ='''INSERT INTO map_transaction(State, Year, Quater, District, Transacion_count,\n",
    "#                                                      Transacion_amount)\n",
    "                                                     \n",
    "#                                                      values(%s,%s,%s,%s,%s,%s)'''\n",
    "# data = Map_trans.values.tolist()\n",
    "# cursor.executemany(insert_query_4,data)\n",
    "# connection.commit()\n",
    "\n",
    "#map insurance table\n",
    "# create_query_5 = '''CREATE TABLE if not exists map_insurance(State varchar(255),\n",
    "#                                                       Year int,\n",
    "#                                                       Quater int,\n",
    "#                                                       District varchar(255),\n",
    "#                                                       Insurance_count double,\n",
    "#                                                       Insurance_amount double)'''\n",
    "\n",
    "# cursor.execute(create_query_5)\n",
    "# connection.commit()\n",
    "\n",
    "# insert_query_5 ='''INSERT INTO map_insurance(State, Year, Quater, District, Insurance_count,\n",
    "#                                                      Insurance_amount)\n",
    "                                                     \n",
    "#                                                      values(%s,%s,%s,%s,%s,%s)'''\n",
    "# data = Map_insur.values.tolist()\n",
    "# cursor.executemany(insert_query_5,data)\n",
    "# connection.commit()\n",
    "\n",
    "#map user table\n",
    "# create_query_6 = '''CREATE TABLE if not exists map_user(State varchar(255),\n",
    "#                                                       Year int,\n",
    "#                                                       Quater int,\n",
    "#                                                       District varchar(255),\n",
    "#                                                       RegisteredUsers double,\n",
    "#                                                       AppOpens double)'''\n",
    "\n",
    "# cursor.execute(create_query_6)\n",
    "# connection.commit()\n",
    "\n",
    "# insert_query_6 ='''INSERT INTO map_user(State, Year, Quater, District, RegisteredUsers,\n",
    "#                                                      AppOpens)\n",
    "                                                     \n",
    "#                                                      values(%s,%s,%s,%s,%s,%s)'''\n",
    "# data = Map_users.values.tolist()\n",
    "# cursor.executemany(insert_query_6,data)\n",
    "# connection.commit()\n",
    "\n",
    "\n",
    "#top transaction table\n",
    "# create_query_7 = '''CREATE TABLE if not exists top_transaction(State varchar(255),\n",
    "#                                                       Year int,\n",
    "#                                                       Quater int,\n",
    "#                                                       Entity_Level varchar(255),\n",
    "#                                                       Entity_Name varchar(255),\n",
    "#                                                       Transaction_count double\n",
    "#                                                       Transaction_amount double'''\n",
    "\n",
    "# cursor.execute(create_query_7)\n",
    "# connection.commit()\n",
    "\n",
    "# insert_query_7 ='''INSERT INTO top_transaction(State, Year, Quater, Entity_Level, Entity_Name,\n",
    "#                                                      Transaction_count,\n",
    "#                                                      Transaction_amount)\n",
    "                                                     \n",
    "#                                                      values(%s,%s,%s,%s,%s,%s,%s)'''\n",
    "# data = Top_trans.values.tolist()\n",
    "# cursor.executemany(insert_query_7,data)\n",
    "# connection.commit()\n",
    "\n",
    "#top insurance table\n",
    "# create_query_8 = '''CREATE TABLE if not exists top_insurance(State varchar(255),\n",
    "#                                                       Year int,\n",
    "#                                                       Quater int,\n",
    "#                                                       Entity_Level varchar(255),\n",
    "#                                                       Entity_Name varchar(255),\n",
    "#                                                       Insurance_count double,\n",
    "#                                                       Insurance_amount double)'''\n",
    "\n",
    "# cursor.execute(create_query_8)\n",
    "# connection.commit()\n",
    "\n",
    "# insert_query_8 ='''INSERT INTO top_insurance(State, Year, Quater, Entity_Level, Entity_Name,\n",
    "#                                                      Insurance_count,\n",
    "#                                                      Insurance_amount)\n",
    "                                                     \n",
    "#                                                      values(%s,%s,%s,%s,%s,%s,%s)'''\n",
    "# data = Top_insur.values.tolist()\n",
    "# cursor.executemany(insert_query_8,data)\n",
    "# connection.commit()\n",
    "\n",
    "\n",
    "\n",
    "# top user table\n",
    "# create_query_9 = '''CREATE TABLE if not exists top_user(State varchar(255),\n",
    "#                                                       Year int,\n",
    "#                                                       Quater int,\n",
    "#                                                       Entity_Level varchar(255),\n",
    "#                                                       Name varchar(255),\n",
    "#                                                       Registered_Users varchar(255))'''\n",
    "\n",
    "# cursor.execute(create_query_9)\n",
    "# connection.commit()\n",
    "\n",
    "# insert_query_9 ='''INSERT INTO top_user(State, Year, Quater, Entity_Level, Name,\n",
    "#                                                      Registered_Users)\n",
    "                                                     \n",
    "#                                                      values(%s,%s,%s,%s,%s,%s)'''\n",
    "# data = Top_users.values.tolist()\n",
    "# cursor.executemany(insert_query_9,data)\n",
    "# connection.commit()\n"
   ]
  },
  {
   "cell_type": "code",
   "execution_count": null,
   "id": "5ce65f81",
   "metadata": {},
   "outputs": [
    {
     "name": "stdout",
     "output_type": "stream",
     "text": [
      "                   State  Year  Quater Entity_Level                      Name  \\\n",
      "0      Andaman & Nicobar  2018       1     district             south andaman   \n",
      "1      Andaman & Nicobar  2018       1     district  north and middle andaman   \n",
      "2      Andaman & Nicobar  2018       1     district                  nicobars   \n",
      "3      Andaman & Nicobar  2018       1      pincode                    744103   \n",
      "4      Andaman & Nicobar  2018       1      pincode                    744101   \n",
      "...                  ...   ...     ...          ...                       ...   \n",
      "18291        West Bengal  2024       4      pincode                    733134   \n",
      "18292        West Bengal  2024       4      pincode                    700059   \n",
      "18293        West Bengal  2024       4      pincode                    711302   \n",
      "18294        West Bengal  2024       4      pincode                    700150   \n",
      "18295        West Bengal  2024       4      pincode                    711106   \n",
      "\n",
      "      Registered_Users  \n",
      "0                 5846  \n",
      "1                  632  \n",
      "2                  262  \n",
      "3                 1608  \n",
      "4                 1108  \n",
      "...                ...  \n",
      "18291           169596  \n",
      "18292           169448  \n",
      "18293           146034  \n",
      "18294           142151  \n",
      "18295           142077  \n",
      "\n",
      "[18296 rows x 6 columns]\n"
     ]
    }
   ],
   "source": [
    "import pandas as pd\n",
    "import pymysql\n",
    "import requests\n",
    "import json\n",
    "import plotly.express as px\n",
    "connection = pymysql.connect(\n",
    "         host = 'localhost',\n",
    "         user = 'root',\n",
    "         password = '12345',\n",
    "         database = 'phonepe')\n",
    "\n",
    "#cursor creation\n",
    "cursor = connection.cursor()\n",
    "\n",
    "#agg transaction_df\n",
    "cursor.execute(\"SELECT * FROM aggregated_transaction\")\n",
    "connection.commit()\n",
    "table1 = cursor.fetchall()\n",
    "Agg_transaction= pd.DataFrame(table1,columns=('State', 'Year', 'Quater', 'Transaction_type', \n",
    "                                             'Transaction_count','Transaction_amount'))\n",
    "# print(Agg_transaction)\n",
    "\n",
    "#agg insurance_df\n",
    "cursor.execute(\"SELECT * FROM aggregated_insurance\")\n",
    "connection.commit()\n",
    "table2 = cursor.fetchall()\n",
    "Agg_insurance= pd.DataFrame(table2,columns=('State', 'Year', 'Quater', 'Insurance_type', \n",
    "                                             'Insurance_count','Insurance_amount'))\n",
    "# print(Agg_insurance)\n",
    "\n",
    "#agg user_df\n",
    "cursor.execute(\"SELECT * FROM aggregated_user\")\n",
    "connection.commit()\n",
    "table3 = cursor.fetchall()\n",
    "Agg_user= pd.DataFrame(table3,columns=('State', 'Year', 'Quater', 'Brands', \n",
    "                                             'User_count','Percentage'))\n",
    "# print(Agg_user)\n",
    "\n",
    "#map transaction_df\n",
    "cursor.execute(\"SELECT * FROM map_transaction\")\n",
    "connection.commit()\n",
    "table4 = cursor.fetchall()\n",
    "Map_transaction= pd.DataFrame(table4,columns=('State', 'Year', 'Quater', 'District', \n",
    "                                             'Transaction_count','Transaction_amount'))\n",
    "# print(Map_transaction)\n",
    "\n",
    "#map insurance_df\n",
    "cursor.execute(\"SELECT * FROM map_insurance\")\n",
    "connection.commit()\n",
    "table5 = cursor.fetchall()\n",
    "Map_insurance= pd.DataFrame(table5,columns=('State', 'Year', 'Quater', 'District', \n",
    "                                             'Insurance_count','Insurance_amount'))\n",
    "# print(Map_insurance)\n",
    "\n",
    "#map user_df\n",
    "cursor.execute(\"SELECT * FROM map_user\")\n",
    "connection.commit()\n",
    "table6 = cursor.fetchall()\n",
    "Map_user= pd.DataFrame(table6,columns=('State', 'Year', 'Quater', 'District', \n",
    "                                             'RegisteredUsers','AppOpens'))\n",
    "# print(Map_user)\n",
    "\n",
    "#top transaction_df\n",
    "cursor.execute(\"SELECT * FROM top_transaction\")\n",
    "connection.commit()\n",
    "table7 = cursor.fetchall()\n",
    "Top_transaction= pd.DataFrame(table7,columns=('State', 'Year', 'Quater', 'Entity_Level', 'Entity_Name',\n",
    "                                             'Transaction_count','Transaction_amount'))\n",
    "# print(Top_transaction)\n",
    "\n",
    "#top insurance_df\n",
    "cursor.execute(\"SELECT * FROM top_insurance\")\n",
    "connection.commit()\n",
    "table8 = cursor.fetchall()\n",
    "Top_insurance= pd.DataFrame(table8,columns=('State', 'Year', 'Quater', 'Entity_Level', 'Entity_Name',\n",
    "                                             'Insurance_count','Insurance_amount'))\n",
    "# print(Top_insurance)\n",
    "\n",
    "#top user_df\n",
    "cursor.execute(\"SELECT * FROM top_user\")\n",
    "connection.commit()\n",
    "table9 = cursor.fetchall()\n",
    "Top_user= pd.DataFrame(table9,columns=('State', 'Year', 'Quater', 'Entity_Level', 'Name',\n",
    "                                             'Registered_Users'))\n",
    "# print(Top_user)"
   ]
  },
  {
   "cell_type": "markdown",
   "id": "a5f0889f",
   "metadata": {},
   "source": [
    "## Aggregated Transaction"
   ]
  },
  {
   "cell_type": "code",
   "execution_count": 9,
   "id": "038aa680",
   "metadata": {},
   "outputs": [],
   "source": [
    "import requests\n",
    "import json\n",
    "import plotly.express as px\n",
    "\n",
    "def Transaction_amount_count_Y(df, year):\n",
    "  atacy = df[df[\"Year\"] == year]\n",
    "  atacy.reset_index(drop= True, inplace= True)\n",
    "\n",
    "  atacyg= atacy.groupby(\"State\")[[\"Transaction_count\",\"Transaction_amount\"]].sum()\n",
    "  atacyg.reset_index(inplace= True)\n",
    "\n",
    "  fig_amount = px.bar(atacyg, x=\"State\", y= \"Transaction_amount\", title= f\"{year} TRANSACTION AMOUNT\",\n",
    "                    color_discrete_sequence= px.colors.sequential.ice_r, height= 650, width= 600)\n",
    "  fig_amount.show()\n",
    "\n",
    "  fig_count = px.bar(atacyg, x=\"State\", y= \"Transaction_count\", title= f\"{year} TRANSACTION COUNT\",\n",
    "                    color_discrete_sequence= px.colors.sequential.Bluered_r, height= 650, width= 600)\n",
    "  fig_count.show()\n",
    "\n",
    "  url = \"https://gist.githubusercontent.com/jbrobst/56c13bbbf9d97d187fea01ca62ea5112/raw/e388c4cae20aa53cb5090210a42ebb9b765c0a36/india_states.geojson\"\n",
    "  respo = requests.get(url)\n",
    "  respo\n",
    "  data1 =json.loads(respo.content)\n",
    "  states_name = []\n",
    "  for feature in data1[\"features\"]:\n",
    "      states_name.append(feature[\"properties\"][\"ST_NM\"])\n",
    "\n",
    "  states_name.sort()\n",
    "\n",
    "  fig_india_1= px.choropleth(atacyg, geojson= data1, locations= \"State\", featureidkey=  \"properties.ST_NM\", \n",
    "                             color= \"Transaction_amount\", color_continuous_scale= \"rainbow\",\n",
    "                             range_color= (atacyg[\"Transaction_amount\"].min(),atacyg[\"Transaction_amount\"].max()),\n",
    "                             hover_name= \"State\", title= f\"{year} TRANSACTION AMOUNT\", fitbounds= \"locations\",\n",
    "                             height= 600, width= 600)\n",
    "  fig_india_1.update_geos(visible= False)\n",
    "  fig_india_1.show()\n",
    "\n",
    "  fig_india_2= px.choropleth(atacyg, geojson= data1, locations= \"State\", featureidkey=  \"properties.ST_NM\", \n",
    "                             color= \"Transaction_count\", color_continuous_scale= \"rainbow\",\n",
    "                             range_color= (atacyg[\"Transaction_count\"].min(),atacyg[\"Transaction_count\"].max()),\n",
    "                             hover_name= \"State\", title= f\"{year} TRANSACTION COUNT\", fitbounds= \"locations\",\n",
    "                             height= 600, width= 600)\n",
    "  fig_india_2.update_geos(visible= False)\n",
    "  fig_india_2.show()\n",
    "\n",
    "  return atacy\n",
    "\n"
   ]
  },
  {
   "cell_type": "code",
   "execution_count": 10,
   "id": "b0fa01c6",
   "metadata": {},
   "outputs": [],
   "source": [
    "def Transaction_amount_count_Y_Q(df, quater):\n",
    "  atacy = df[df[\"Quater\"] == quater]\n",
    "  atacy.reset_index(drop= True, inplace= True)\n",
    "\n",
    "  atacyg= atacy.groupby(\"State\")[[\"Transaction_count\",\"Transaction_amount\"]].sum()\n",
    "  atacyg.reset_index(inplace= True)\n",
    "\n",
    "  fig_amount = px.bar(atacyg, x=\"State\", y= \"Transaction_amount\", title= f\"{atacy['Year'].min()} YEAR {quater} QUATER TRANSACTION AMOUNT\",\n",
    "                    color_discrete_sequence= px.colors.sequential.ice_r, height= 650, width= 600)\n",
    "  fig_amount.show()\n",
    "\n",
    "  fig_count = px.bar(atacyg, x=\"State\", y= \"Transaction_count\", title= f\"{atacy['Year'].min()} YEAR {quater} QUATER TRANSACTION COUNT\",\n",
    "                    color_discrete_sequence= px.colors.sequential.Bluered_r, height= 650, width= 600)\n",
    "  fig_count.show()\n",
    "\n",
    "  url = \"https://gist.githubusercontent.com/jbrobst/56c13bbbf9d97d187fea01ca62ea5112/raw/e388c4cae20aa53cb5090210a42ebb9b765c0a36/india_states.geojson\"\n",
    "  respo = requests.get(url)\n",
    "  respo\n",
    "  data1 =json.loads(respo.content)\n",
    "  states_name = []\n",
    "  for feature in data1[\"features\"]:\n",
    "      states_name.append(feature[\"properties\"][\"ST_NM\"])\n",
    "\n",
    "  states_name.sort()\n",
    "\n",
    "  fig_india_1= px.choropleth(atacyg, geojson= data1, locations= \"State\", featureidkey=  \"properties.ST_NM\", \n",
    "                             color= \"Transaction_amount\", color_continuous_scale= \"rainbow\",\n",
    "                             range_color= (atacyg[\"Transaction_amount\"].min(),atacyg[\"Transaction_amount\"].max()),\n",
    "                             hover_name= \"State\", title= f\"{atacy['Year'].min()} YEAR {quater} QUATER TRANSACTION AMOUNT\",\n",
    "                             fitbounds= \"locations\", height= 600, width= 600)\n",
    "  fig_india_1.update_geos(visible= False)\n",
    "  fig_india_1.show()\n",
    "\n",
    "  fig_india_2= px.choropleth(atacyg, geojson= data1, locations= \"State\", featureidkey=  \"properties.ST_NM\", \n",
    "                             color= \"Transaction_count\", color_continuous_scale= \"rainbow\",\n",
    "                             range_color= (atacyg[\"Transaction_count\"].min(),atacyg[\"Transaction_count\"].max()),\n",
    "                             hover_name= \"State\", title= f\"{atacy['Year'].min()} YEAR {quater} QUATER TRANSACTION COUNT\", \n",
    "                             fitbounds= \"locations\", height= 600, width= 600)\n",
    "  fig_india_2.update_geos(visible= False)\n",
    "  fig_india_2.show()\n",
    "\n",
    "  return atacy"
   ]
  },
  {
   "cell_type": "code",
   "execution_count": 11,
   "id": "401e351c",
   "metadata": {},
   "outputs": [],
   "source": [
    "#Transaction type\n",
    "\n",
    "def Aggre_Transaction_Type(df, state):\n",
    "\n",
    "    atacy = df[df[\"State\"] == state]\n",
    "    atacy.reset_index(drop= True, inplace= True)\n",
    "\n",
    "    atacyg= atacy.groupby(\"Transaction_type\")[[\"Transaction_count\",\"Transaction_amount\"]].sum()\n",
    "    atacyg.reset_index(inplace= True)\n",
    "\n",
    "    fig_pie_1= px.pie(data_frame= atacyg, names= \"Transaction_type\", values= \"Transaction_amount\", width= 600, \n",
    "                    title= f\"{state.upper()} TRANSACTION AMOUNT\", hole= 0.6)\n",
    "    fig_pie_1.show()\n",
    "\n",
    "    fig_pie_2= px.pie(data_frame= atacyg, names= \"Transaction_type\", values= \"Transaction_count\", width= 600, \n",
    "                    title= f\"{state.upper()} TRANSACTION COUNT\", hole= 0.6)\n",
    "    fig_pie_2.show()"
   ]
  },
  {
   "cell_type": "code",
   "execution_count": 12,
   "id": "f25f318f",
   "metadata": {},
   "outputs": [],
   "source": [
    "#aggre user analysis_1\n",
    "def Aggre_user_plot_1(df, year):\n",
    "    \n",
    "    agusy = df[df[\"Year\"] == year]\n",
    "    agusy.reset_index(drop= True, inplace= True)\n",
    "\n",
    "    agusyg = pd.DataFrame(agusy.groupby(\"Brands\")[\"User_count\"].sum())\n",
    "    agusyg.reset_index(inplace= True)\n",
    "\n",
    "    fig_bar_1 = px.bar(agusyg, x= \"Brands\", y= \"User_count\", title= f\"{year} BRANDS AND USER COUNT\",\n",
    "                    width= 1000, color_discrete_sequence= px.colors.sequential.Magenta_r, hover_name= \"Brands\")\n",
    "    fig_bar_1.show()\n",
    "\n",
    "    return agusy"
   ]
  },
  {
   "cell_type": "code",
   "execution_count": 13,
   "id": "ec2d1deb",
   "metadata": {},
   "outputs": [],
   "source": [
    "#Aggregated_User_Analysis 2\n",
    "def Aggre_user_plot_2(df, quater):\n",
    "    agusyq = df[df[\"Quater\"]== quater]\n",
    "    agusyq.reset_index(drop= True, inplace= True)\n",
    "\n",
    "    agusyqg= pd.DataFrame(agusyq.groupby(\"Brands\")[\"User_count\"].sum())\n",
    "    agusyqg.reset_index(inplace= True)\n",
    "\n",
    "    fig_bar_1 = px.bar(agusyqg, x= \"Brands\", y= \"User_count\", title= f\"{quater} QUATER, BRANDS AND USER COUNT\",\n",
    "                        width= 1000, color_discrete_sequence= px.colors.sequential.Burg_r, hover_name= \"Brands\")\n",
    "    fig_bar_1.show()\n",
    "\n",
    "    return agusyq"
   ]
  },
  {
   "cell_type": "code",
   "execution_count": 14,
   "id": "00661a78",
   "metadata": {},
   "outputs": [],
   "source": [
    "#Aggregated User Analysis 3\n",
    "def Aggre_user_plot_3(df, state):\n",
    "    agusyqs= df[df[\"State\"] == state]\n",
    "    agusyqs.reset_index(drop= True, inplace= True)\n",
    "    agusyqs\n",
    "\n",
    "    fig_line_1= px.line(agusyqs, x= \"Brands\", y= \"User_count\", hover_data= \"Percentage\", \n",
    "                        title= \"BRANDS, USER COUNT, PERCENTAGE\", width= 1000, markers= True)\n",
    "    fig_line_1.show()"
   ]
  },
  {
   "cell_type": "code",
   "execution_count": 15,
   "id": "ccba900f",
   "metadata": {},
   "outputs": [],
   "source": [
    "def Map_tra_dis(df, state):\n",
    "\n",
    "    atacy = df[df[\"State\"] == state]\n",
    "    atacy.reset_index(drop= True, inplace= True)\n",
    "\n",
    "    atacyg= atacy.groupby(\"District\")[[\"Transaction_count\",\"Transaction_amount\"]].sum()\n",
    "    atacyg.reset_index(inplace= True)\n",
    "\n",
    "    fig_bar_1= px.bar(atacyg, x= \"Transaction_amount\", y= \"District\", orientation= \"h\", height= 600,\n",
    "                  title= f\"{state.upper()} DISTRICT AND TRANSACTION_AMOUNT\", color_discrete_sequence= px.colors.sequential.Brwnyl)\n",
    "    fig_bar_1.show()\n",
    "\n",
    "    fig_bar_1= px.bar(atacyg, x= \"Transaction_count\", y= \"District\", orientation= \"h\", height= 600,\n",
    "                  title= f\"{state.upper()} DISTRICT AND TRANSACTION_COUNT\", color_discrete_sequence= px.colors.sequential.Bluered_r)\n",
    "    fig_bar_1.show()"
   ]
  },
  {
   "cell_type": "code",
   "execution_count": 16,
   "id": "85a16b11",
   "metadata": {},
   "outputs": [],
   "source": [
    "#Map Insurance type\n",
    "def Map_ins_dis(df, state):\n",
    "  aiacy = df[df[\"State\"] == state]\n",
    "  aiacy.reset_index(drop= True, inplace= True)\n",
    "\n",
    "  aiacyg= aiacy.groupby(\"District\")[[\"Insurance_count\",\"Insurance_amount\"]].sum()\n",
    "  aiacyg.reset_index(inplace= True)\n",
    "     \n",
    "  fig_bar_1= px.bar(aiacyg, x= \"Insurance_amount\", y= \"District\", orientation= \"h\", height= 600,\n",
    "                  title= f\"{state.upper()} DISTRICT AND INSURANCE_AMOUNT\", color_discrete_sequence= px.colors.sequential.Brwnyl)\n",
    "  fig_bar_1.show()\n",
    "\n",
    "\n",
    "  fig_bar_2= px.bar(aiacyg, x= \"Insurance_count\", y= \"District\", orientation= \"h\", height= 600,\n",
    "                      title= f\"{state.upper()} DISTRICT AND INSURANCE_COUNT\", color_discrete_sequence= px.colors.sequential.Mint_r)\n",
    "  fig_bar_2.show()\n",
    "\n"
   ]
  },
  {
   "cell_type": "code",
   "execution_count": null,
   "id": "2a8ae509",
   "metadata": {},
   "outputs": [],
   "source": [
    "#Map user plot 1\n",
    "def Map_user_plot_1(df, year):\n",
    "    mauy = df[df[\"Year\"] == year]\n",
    "    mauy.reset_index(drop= True, inplace= True)\n",
    "\n",
    "    mauyg = mauy.groupby(\"State\")[[\"RegisteredUsers\", \"AppOpens\"]].sum()\n",
    "    mauyg.reset_index(inplace= True)\n",
    "    \n",
    "    fig_line_2= px.line(mauyg, x= \"State\", y= [\"RegisteredUsers\", \"AppOpens\"],\n",
    "                            title= f\"{year} REGISTEREDUSER AND APPOPENS\", width= 1000, height= 800, markers= True)\n",
    "    fig_line_2.show()\n",
    "  \n",
    "    return mauy"
   ]
  },
  {
   "cell_type": "code",
   "execution_count": 18,
   "id": "0d114b24",
   "metadata": {},
   "outputs": [],
   "source": [
    "#Map user plot 2\n",
    "def Map_user_plot_2(df, quater):\n",
    "    mauyq = df[df[\"Quater\"] == quater]\n",
    "    mauyq.reset_index(drop= True, inplace= True)\n",
    "\n",
    "    mauyqg = mauyq.groupby(\"State\")[[\"RegisteredUsers\", \"AppOpens\"]].sum()\n",
    "    mauyqg.reset_index(inplace= True)\n",
    "    \n",
    "    fig_line_3= px.line(mauyqg, x= \"State\", y= [\"RegisteredUsers\", \"AppOpens\"],\n",
    "                            title= f\"{df['Year'].min()} YEAR {quater} QUATER REGISTEREDUSER AND APPOPENS\", width= 1000, height= 800, markers= True,\n",
    "                            color_discrete_sequence= px.colors.sequential.YlGnBu_r)\n",
    "    fig_line_3.show()\n",
    "\n",
    "    return mauyq"
   ]
  },
  {
   "cell_type": "code",
   "execution_count": 19,
   "id": "d0e56601",
   "metadata": {},
   "outputs": [],
   "source": [
    "#Map user plot 3\n",
    "def Map_user_plot_3(df, state):\n",
    "    mauyqs = df[df[\"State\"] == state]\n",
    "    mauyqs.reset_index(drop= True, inplace= True)\n",
    "\n",
    "    fig_line_4= px.bar(mauyqs, x= \"RegisteredUsers\", y= \"District\", orientation= \"h\",\n",
    "                            title= \"REGISTEREDUSER\", height= 800, color_discrete_sequence= px.colors.sequential.Bluered_r)\n",
    "    fig_line_4.show()\n",
    "\n",
    "    fig_line_5= px.bar(mauyqs, x= \"AppOpens\", y= \"District\", orientation= \"h\",\n",
    "                            title= \"APPOPENS\", height= 800, color_discrete_sequence= px.colors.sequential.Blues_r)\n",
    "    fig_line_5.show()"
   ]
  },
  {
   "cell_type": "code",
   "execution_count": null,
   "id": "0d25891b",
   "metadata": {},
   "outputs": [],
   "source": [
    "Transaction_amount_count_Y(Agg_transaction, 2023)"
   ]
  },
  {
   "cell_type": "code",
   "execution_count": null,
   "id": "c836b2d0",
   "metadata": {},
   "outputs": [],
   "source": [
    "tacy = Transaction_amount_count_Y(Agg_transaction, 2023)"
   ]
  },
  {
   "cell_type": "code",
   "execution_count": null,
   "id": "73aba182",
   "metadata": {},
   "outputs": [],
   "source": [
    "Aggre_Transaction_Type(tacy, 'Tamil Nadu')"
   ]
  },
  {
   "cell_type": "code",
   "execution_count": null,
   "id": "55932c69",
   "metadata": {},
   "outputs": [],
   "source": [
    "Aggre_Transaction_Type_Q = Transaction_amount_count_Y_Q(tacy, 3)"
   ]
  },
  {
   "cell_type": "code",
   "execution_count": null,
   "id": "b91e3150",
   "metadata": {},
   "outputs": [],
   "source": [
    "Aggre_Transaction_Type(Aggre_Transaction_Type_Q, 'Tamil Nadu')"
   ]
  },
  {
   "cell_type": "code",
   "execution_count": 25,
   "id": "2a788a87",
   "metadata": {},
   "outputs": [
    {
     "data": {
      "text/plain": [
       "array(['Andaman & Nicobar', 'Andhra Pradesh', 'Arunachal Pradesh',\n",
       "       'Assam', 'Bihar', 'Chandigarh', 'Chhattisgarh',\n",
       "       'Dadra and Nagar Haveli and Daman and Diu', 'Delhi', 'Goa',\n",
       "       'Gujarat', 'Haryana', 'Himachal Pradesh', 'Jammu & Kashmir',\n",
       "       'Jharkhand', 'Karnataka', 'Kerala', 'Ladakh', 'Lakshadweep',\n",
       "       'Madhya Pradesh', 'Maharashtra', 'Manipur', 'Meghalaya', 'Mizoram',\n",
       "       'Nagaland', 'Odisha', 'Puducherry', 'Punjab', 'Rajasthan',\n",
       "       'Sikkim', 'Tamil Nadu', 'Telangana', 'Tripura', 'Uttar Pradesh',\n",
       "       'Uttarakhand', 'West Bengal'], dtype=object)"
      ]
     },
     "execution_count": 25,
     "metadata": {},
     "output_type": "execute_result"
    }
   ],
   "source": [
    "Aggre_Transaction_Type_Q['State'].unique()"
   ]
  },
  {
   "cell_type": "markdown",
   "id": "5e8173b8",
   "metadata": {},
   "source": [
    "## Aggregated Insurance"
   ]
  },
  {
   "cell_type": "code",
   "execution_count": 26,
   "id": "ad3aa38a",
   "metadata": {},
   "outputs": [],
   "source": [
    "def Insurance_amount_count_Y(df, year):\n",
    "  aiacy = df[df[\"Year\"] == year]\n",
    "  aiacy.reset_index(drop= True, inplace= True)\n",
    "\n",
    "  aiacyg= aiacy.groupby(\"State\")[[\"Insurance_count\",\"Insurance_amount\"]].sum()\n",
    "  aiacyg.reset_index(inplace= True)\n",
    "\n",
    "  fig_amount = px.bar(aiacyg, x=\"State\", y= \"Insurance_amount\", title= f\"{year} INSURANCE AMOUNT\",\n",
    "                    color_discrete_sequence= px.colors.sequential.ice_r, height= 650, width= 600)\n",
    "  fig_amount.show()\n",
    "\n",
    "  fig_count = px.bar(aiacyg, x=\"State\", y= \"Insurance_count\", title= f\"{year} INSURANCE COUNT\",\n",
    "                    color_discrete_sequence= px.colors.sequential.Bluered_r, height= 650, width= 600)\n",
    "  fig_count.show()\n",
    "\n",
    "  url = \"https://gist.githubusercontent.com/jbrobst/56c13bbbf9d97d187fea01ca62ea5112/raw/e388c4cae20aa53cb5090210a42ebb9b765c0a36/india_states.geojson\"\n",
    "  respo = requests.get(url)\n",
    "  data1 =json.loads(respo.content)\n",
    "  states_name = []\n",
    "  for feature in data1[\"features\"]:\n",
    "      states_name.append(feature[\"properties\"][\"ST_NM\"])\n",
    "\n",
    "  states_name.sort()\n",
    "\n",
    "  fig_india_1= px.choropleth(aiacyg, geojson= data1, locations= \"State\", featureidkey=  \"properties.ST_NM\", \n",
    "                             color= \"Insurance_amount\", color_continuous_scale= \"rainbow\",\n",
    "                             range_color= (aiacyg[\"Insurance_amount\"].min(),aiacyg[\"Insurance_amount\"].max()),\n",
    "                             hover_name= \"State\", title= f\"{year} INSURANCE AMOUNT\", fitbounds= \"locations\",\n",
    "                             height= 600, width= 600)\n",
    "  fig_india_1.update_geos(visible= False)\n",
    "  fig_india_1.show()\n",
    "\n",
    "  fig_india_2= px.choropleth(aiacyg, geojson= data1, locations= \"State\", featureidkey=  \"properties.ST_NM\", \n",
    "                             color= \"Insurance_count\", color_continuous_scale= \"rainbow\",\n",
    "                             range_color= (aiacyg[\"Insurance_count\"].min(),aiacyg[\"Insurance_count\"].max()),\n",
    "                             hover_name= \"State\", title= f\"{year} INSURANCE COUNT\", fitbounds= \"locations\",\n",
    "                             height= 600, width= 600)\n",
    "  fig_india_2.update_geos(visible= False)\n",
    "  fig_india_2.show()\n",
    "\n",
    "  return aiacy"
   ]
  },
  {
   "cell_type": "code",
   "execution_count": null,
   "id": "95ad6e20",
   "metadata": {},
   "outputs": [],
   "source": [
    "Insurance_amount_count_Y(Map_insurance, 2020)"
   ]
  },
  {
   "cell_type": "code",
   "execution_count": 28,
   "id": "dbeab44a",
   "metadata": {},
   "outputs": [],
   "source": [
    "def Insurance_amount_count_Y_Q(df, quater):\n",
    "  aiacy = df[df[\"Quater\"] == quater]\n",
    "  aiacy.reset_index(drop= True, inplace= True)\n",
    "\n",
    "  aiacyg= aiacy.groupby(\"State\")[[\"Insurance_count\",\"Insurance_amount\"]].sum()\n",
    "  aiacyg.reset_index(inplace= True)\n",
    "\n",
    "  fig_amount = px.bar(aiacyg, x=\"State\", y= \"Insurance_amount\", title= f\"{aiacy['Year'].min()} YEAR {quater} QUATER INSURANCE AMOUNT\",\n",
    "                    color_discrete_sequence= px.colors.sequential.ice_r, height= 650, width= 600)\n",
    "  fig_amount.show()\n",
    "\n",
    "  fig_count = px.bar(aiacyg, x=\"State\", y= \"Insurance_count\", title= f\"{aiacy['Year'].min()} YEAR {quater} QUATER INSURANCE COUNT\",\n",
    "                    color_discrete_sequence= px.colors.sequential.Bluered_r, height= 650, width= 600)\n",
    "  fig_count.show()\n",
    "\n",
    "  url = \"https://gist.githubusercontent.com/jbrobst/56c13bbbf9d97d187fea01ca62ea5112/raw/e388c4cae20aa53cb5090210a42ebb9b765c0a36/india_states.geojson\"\n",
    "  respo = requests.get(url)\n",
    "  respo\n",
    "  data1 =json.loads(respo.content)\n",
    "  states_name = []\n",
    "  for feature in data1[\"features\"]:\n",
    "      states_name.append(feature[\"properties\"][\"ST_NM\"])\n",
    "\n",
    "  states_name.sort()\n",
    "\n",
    "  fig_india_1= px.choropleth(aiacyg, geojson= data1, locations= \"State\", featureidkey=  \"properties.ST_NM\", \n",
    "                             color= \"Insurance_amount\", color_continuous_scale= \"rainbow\",\n",
    "                             range_color= (aiacyg[\"Insurance_amount\"].min(),aiacyg[\"Insurance_amount\"].max()),\n",
    "                             hover_name= \"State\", title= f\"{aiacy['Year'].min()} YEAR {quater} QUATER INSURANCE AMOUNT\",\n",
    "                             fitbounds= \"locations\", height= 600, width= 600)\n",
    "  fig_india_1.update_geos(visible= False)\n",
    "  fig_india_1.show()\n",
    "\n",
    "  fig_india_2= px.choropleth(aiacyg, geojson= data1, locations= \"State\", featureidkey=  \"properties.ST_NM\", \n",
    "                             color= \"Insurance_count\", color_continuous_scale= \"rainbow\",\n",
    "                             range_color= (aiacyg[\"Insurance_count\"].min(),aiacyg[\"Insurance_count\"].max()),\n",
    "                             hover_name= \"State\", title= f\"{aiacy['Year'].min()} YEAR {quater} QUATER INSURANCE COUNT\", \n",
    "                             fitbounds= \"locations\", height= 600, width= 600)\n",
    "  fig_india_2.update_geos(visible= False)\n",
    "  fig_india_2.show()\n",
    "\n",
    "  return aiacy"
   ]
  },
  {
   "cell_type": "code",
   "execution_count": null,
   "id": "dcae41a1",
   "metadata": {},
   "outputs": [],
   "source": [
    "aicy = Insurance_amount_count_Y(Agg_insurance, 2022)"
   ]
  },
  {
   "cell_type": "code",
   "execution_count": null,
   "id": "2210ad5a",
   "metadata": {},
   "outputs": [],
   "source": [
    "Insurance_amount_count_Y_Q(aicy, 2)"
   ]
  },
  {
   "cell_type": "code",
   "execution_count": null,
   "id": "26b8046b",
   "metadata": {},
   "outputs": [],
   "source": [
    "Agg_insurance"
   ]
  },
  {
   "cell_type": "code",
   "execution_count": null,
   "id": "60a25892",
   "metadata": {},
   "outputs": [],
   "source": [
    "Aggre_user_Y= Aggre_user_plot_1(Agg_user, 2021)"
   ]
  },
  {
   "cell_type": "code",
   "execution_count": null,
   "id": "de36f5ab",
   "metadata": {},
   "outputs": [],
   "source": [
    "Aggre_user_Y_Q= Aggre_user_plot_2(Aggre_user_Y, 3)"
   ]
  },
  {
   "cell_type": "code",
   "execution_count": null,
   "id": "17a4bfdd",
   "metadata": {},
   "outputs": [],
   "source": [
    "Aggre_user_plot_3(Aggre_user_Y_Q,\"Tamil Nadu\")"
   ]
  },
  {
   "cell_type": "markdown",
   "id": "57813007",
   "metadata": {},
   "source": [
    "## Map Insurance"
   ]
  },
  {
   "cell_type": "code",
   "execution_count": null,
   "id": "ef345fb6",
   "metadata": {},
   "outputs": [],
   "source": [
    "Map_insurance"
   ]
  },
  {
   "cell_type": "code",
   "execution_count": null,
   "id": "3c056a0a",
   "metadata": {},
   "outputs": [],
   "source": [
    "Map_ins_tac_Y = Insurance_amount_count_Y(Map_insurance, 2022)"
   ]
  },
  {
   "cell_type": "code",
   "execution_count": null,
   "id": "252cf2f5",
   "metadata": {},
   "outputs": [],
   "source": [
    "Map_ins_tac_Y_Q = Insurance_amount_count_Y_Q(Map_ins_tac_Y,3)"
   ]
  },
  {
   "cell_type": "code",
   "execution_count": null,
   "id": "290c9cce",
   "metadata": {},
   "outputs": [],
   "source": [
    "Map_ins_dis(Map_ins_tac_Y_Q, \"Andaman & Nicobar\")"
   ]
  },
  {
   "cell_type": "markdown",
   "id": "8fbfde0a",
   "metadata": {},
   "source": [
    "## Map Transaction"
   ]
  },
  {
   "cell_type": "code",
   "execution_count": null,
   "id": "17bfa287",
   "metadata": {},
   "outputs": [],
   "source": [
    "Transaction_amount_count_Y(Map_transaction, 2023)"
   ]
  },
  {
   "cell_type": "code",
   "execution_count": null,
   "id": "a285af3d",
   "metadata": {},
   "outputs": [],
   "source": [
    "Map_tra_Y = Transaction_amount_count_Y(Map_transaction, 2023)"
   ]
  },
  {
   "cell_type": "code",
   "execution_count": null,
   "id": "1c915cc6",
   "metadata": {},
   "outputs": [],
   "source": [
    "Map_tra_Y_Q = Transaction_amount_count_Y_Q(Map_tra_Y,3)"
   ]
  },
  {
   "cell_type": "code",
   "execution_count": null,
   "id": "df569b84",
   "metadata": {},
   "outputs": [],
   "source": [
    "Map_tra_dis(Map_tra_Y_Q, \"Andaman & Nicobar\")"
   ]
  },
  {
   "cell_type": "code",
   "execution_count": null,
   "id": "91bc9597",
   "metadata": {},
   "outputs": [],
   "source": [
    "Map_transaction"
   ]
  },
  {
   "cell_type": "markdown",
   "id": "2595b1dc",
   "metadata": {},
   "source": [
    "## Map user"
   ]
  },
  {
   "cell_type": "code",
   "execution_count": null,
   "id": "b7525e76",
   "metadata": {},
   "outputs": [],
   "source": [
    "Map_user_Y = Map_user_plot_1(Map_user, 2019)"
   ]
  },
  {
   "cell_type": "code",
   "execution_count": null,
   "id": "0ca70a08",
   "metadata": {},
   "outputs": [],
   "source": [
    "Map_user_Y_Q = Map_user_plot_2(Map_user_Y, 2)"
   ]
  },
  {
   "cell_type": "code",
   "execution_count": null,
   "id": "bab05b05",
   "metadata": {},
   "outputs": [],
   "source": [
    "Map_user_plot_3(Map_user_Y_Q, \"Tamil Nadu\")"
   ]
  },
  {
   "cell_type": "code",
   "execution_count": null,
   "id": "8eefef13",
   "metadata": {},
   "outputs": [],
   "source": [
    "Map_user"
   ]
  },
  {
   "cell_type": "markdown",
   "id": "088c6d68",
   "metadata": {},
   "source": [
    "## Top Transaction"
   ]
  },
  {
   "cell_type": "code",
   "execution_count": 68,
   "id": "b7c71dbe",
   "metadata": {},
   "outputs": [
    {
     "data": {
      "text/html": [
       "<div>\n",
       "<style scoped>\n",
       "    .dataframe tbody tr th:only-of-type {\n",
       "        vertical-align: middle;\n",
       "    }\n",
       "\n",
       "    .dataframe tbody tr th {\n",
       "        vertical-align: top;\n",
       "    }\n",
       "\n",
       "    .dataframe thead th {\n",
       "        text-align: right;\n",
       "    }\n",
       "</style>\n",
       "<table border=\"1\" class=\"dataframe\">\n",
       "  <thead>\n",
       "    <tr style=\"text-align: right;\">\n",
       "      <th></th>\n",
       "      <th>State</th>\n",
       "      <th>Year</th>\n",
       "      <th>Quater</th>\n",
       "      <th>Entity_Level</th>\n",
       "      <th>Entity_Name</th>\n",
       "      <th>Transaction_count</th>\n",
       "      <th>Transaction_amount</th>\n",
       "    </tr>\n",
       "  </thead>\n",
       "  <tbody>\n",
       "    <tr>\n",
       "      <th>0</th>\n",
       "      <td>Andaman &amp; Nicobar</td>\n",
       "      <td>2018</td>\n",
       "      <td>1</td>\n",
       "      <td>district</td>\n",
       "      <td>south andaman</td>\n",
       "      <td>5688.0</td>\n",
       "      <td>1.256025e+07</td>\n",
       "    </tr>\n",
       "    <tr>\n",
       "      <th>1</th>\n",
       "      <td>Andaman &amp; Nicobar</td>\n",
       "      <td>2018</td>\n",
       "      <td>1</td>\n",
       "      <td>pincode</td>\n",
       "      <td>744101</td>\n",
       "      <td>1622.0</td>\n",
       "      <td>2.769298e+06</td>\n",
       "    </tr>\n",
       "    <tr>\n",
       "      <th>2</th>\n",
       "      <td>Andaman &amp; Nicobar</td>\n",
       "      <td>2018</td>\n",
       "      <td>1</td>\n",
       "      <td>pincode</td>\n",
       "      <td>744103</td>\n",
       "      <td>1223.0</td>\n",
       "      <td>2.238042e+06</td>\n",
       "    </tr>\n",
       "    <tr>\n",
       "      <th>3</th>\n",
       "      <td>Andaman &amp; Nicobar</td>\n",
       "      <td>2018</td>\n",
       "      <td>1</td>\n",
       "      <td>pincode</td>\n",
       "      <td>744102</td>\n",
       "      <td>969.0</td>\n",
       "      <td>3.519060e+06</td>\n",
       "    </tr>\n",
       "    <tr>\n",
       "      <th>4</th>\n",
       "      <td>Andaman &amp; Nicobar</td>\n",
       "      <td>2018</td>\n",
       "      <td>1</td>\n",
       "      <td>pincode</td>\n",
       "      <td>744105</td>\n",
       "      <td>685.0</td>\n",
       "      <td>1.298561e+06</td>\n",
       "    </tr>\n",
       "    <tr>\n",
       "      <th>...</th>\n",
       "      <td>...</td>\n",
       "      <td>...</td>\n",
       "      <td>...</td>\n",
       "      <td>...</td>\n",
       "      <td>...</td>\n",
       "      <td>...</td>\n",
       "      <td>...</td>\n",
       "    </tr>\n",
       "    <tr>\n",
       "      <th>91118</th>\n",
       "      <td>West Bengal</td>\n",
       "      <td>2024</td>\n",
       "      <td>4</td>\n",
       "      <td>pincode</td>\n",
       "      <td>711101</td>\n",
       "      <td>6753348.0</td>\n",
       "      <td>1.049483e+10</td>\n",
       "    </tr>\n",
       "    <tr>\n",
       "      <th>91119</th>\n",
       "      <td>West Bengal</td>\n",
       "      <td>2024</td>\n",
       "      <td>4</td>\n",
       "      <td>pincode</td>\n",
       "      <td>700059</td>\n",
       "      <td>6662715.0</td>\n",
       "      <td>8.009476e+09</td>\n",
       "    </tr>\n",
       "    <tr>\n",
       "      <th>91120</th>\n",
       "      <td>West Bengal</td>\n",
       "      <td>2024</td>\n",
       "      <td>4</td>\n",
       "      <td>pincode</td>\n",
       "      <td>700039</td>\n",
       "      <td>6575693.0</td>\n",
       "      <td>9.018748e+09</td>\n",
       "    </tr>\n",
       "    <tr>\n",
       "      <th>91121</th>\n",
       "      <td>West Bengal</td>\n",
       "      <td>2024</td>\n",
       "      <td>4</td>\n",
       "      <td>pincode</td>\n",
       "      <td>734001</td>\n",
       "      <td>6432082.0</td>\n",
       "      <td>8.996529e+09</td>\n",
       "    </tr>\n",
       "    <tr>\n",
       "      <th>91122</th>\n",
       "      <td>West Bengal</td>\n",
       "      <td>2024</td>\n",
       "      <td>4</td>\n",
       "      <td>pincode</td>\n",
       "      <td>733134</td>\n",
       "      <td>6313560.0</td>\n",
       "      <td>1.050259e+10</td>\n",
       "    </tr>\n",
       "  </tbody>\n",
       "</table>\n",
       "<p>91123 rows × 7 columns</p>\n",
       "</div>"
      ],
      "text/plain": [
       "                   State  Year  Quater Entity_Level    Entity_Name  \\\n",
       "0      Andaman & Nicobar  2018       1     district  south andaman   \n",
       "1      Andaman & Nicobar  2018       1      pincode         744101   \n",
       "2      Andaman & Nicobar  2018       1      pincode         744103   \n",
       "3      Andaman & Nicobar  2018       1      pincode         744102   \n",
       "4      Andaman & Nicobar  2018       1      pincode         744105   \n",
       "...                  ...   ...     ...          ...            ...   \n",
       "91118        West Bengal  2024       4      pincode         711101   \n",
       "91119        West Bengal  2024       4      pincode         700059   \n",
       "91120        West Bengal  2024       4      pincode         700039   \n",
       "91121        West Bengal  2024       4      pincode         734001   \n",
       "91122        West Bengal  2024       4      pincode         733134   \n",
       "\n",
       "       Transaction_count  Transaction_amount  \n",
       "0                 5688.0        1.256025e+07  \n",
       "1                 1622.0        2.769298e+06  \n",
       "2                 1223.0        2.238042e+06  \n",
       "3                  969.0        3.519060e+06  \n",
       "4                  685.0        1.298561e+06  \n",
       "...                  ...                 ...  \n",
       "91118          6753348.0        1.049483e+10  \n",
       "91119          6662715.0        8.009476e+09  \n",
       "91120          6575693.0        9.018748e+09  \n",
       "91121          6432082.0        8.996529e+09  \n",
       "91122          6313560.0        1.050259e+10  \n",
       "\n",
       "[91123 rows x 7 columns]"
      ]
     },
     "execution_count": 68,
     "metadata": {},
     "output_type": "execute_result"
    }
   ],
   "source": [
    "Top_transaction"
   ]
  },
  {
   "cell_type": "code",
   "execution_count": null,
   "id": "8974a905",
   "metadata": {},
   "outputs": [],
   "source": [
    "#Top Transaction year funtion\n",
    "\n",
    "def Top_Transaction_amount_count_Y(df, year):\n",
    "    # Filter for given year\n",
    "    Toty = df[df[\"Year\"] == year]\n",
    "    Toty.reset_index(drop=True, inplace=True)\n",
    "\n",
    "    # ---- STATE LEVEL ----\n",
    "    \n",
    "    Totyg = Toty.groupby(\"State\")[[\"Transaction_count\", \"Transaction_amount\"]].sum().reset_index()\n",
    "    Totyg.reset_index(inplace=True)\n",
    "   \n",
    "    # Bar Plot Amount (State)\n",
    "    fig_bar_top1 = px.bar(Totyg, x=\"State\", y=\"Transaction_amount\",\n",
    "                        title=f\"{year} TRANSACTION AMOUNT\",\n",
    "                        color_discrete_sequence=px.colors.sequential.ice_r,\n",
    "                        height=650, width=800)\n",
    "    fig_bar_top1.show()\n",
    "\n",
    "    # Bar Plot Count (State)\n",
    "    fig__bar_top2 = px.bar(Totyg, x=\"State\", y=\"Transaction_count\",\n",
    "                       title=f\"{year} TRANSACTION COUNT\",\n",
    "                       color_discrete_sequence=px.colors.sequential.Bluered_r,\n",
    "                       height=650, width=800)\n",
    "    fig__bar_top2.show()\n",
    "\n",
    "    # Choropleth Map (State Level)\n",
    "    url = \"https://gist.githubusercontent.com/jbrobst/56c13bbbf9d97d187fea01ca62ea5112/raw/e388c4cae20aa53cb5090210a42ebb9b765c0a36/india_states.geojson\"\n",
    "    respo = requests.get(url)\n",
    "    india_map = json.loads(respo.content)\n",
    "\n",
    "    fig_india_amount = px.choropleth(Totyg, geojson=india_map, locations=\"State\",\n",
    "                                     featureidkey=\"properties.ST_NM\",\n",
    "                                     color=\"Transaction_amount\", color_continuous_scale=\"rainbow\",\n",
    "                                     range_color=(Totyg[\"Transaction_amount\"].min(),\n",
    "                                                  Totyg[\"Transaction_amount\"].max()),\n",
    "                                     hover_name=\"State\",\n",
    "                                     title=f\"{year} TRANSACTION AMOUNT\",\n",
    "                                     fitbounds=\"locations\",\n",
    "                                     height=600, width=600)\n",
    "    fig_india_amount.update_geos(visible=False)\n",
    "    fig_india_amount.show()\n",
    "\n",
    "    fig_india_count = px.choropleth(Totyg, geojson=india_map, locations=\"State\",\n",
    "                                    featureidkey=\"properties.ST_NM\",\n",
    "                                    color=\"Transaction_count\", color_continuous_scale=\"rainbow\",\n",
    "                                    range_color=(Totyg[\"Transaction_count\"].min(),\n",
    "                                                 Totyg[\"Transaction_count\"].max()),\n",
    "                                    hover_name=\"State\",\n",
    "                                    title=f\"{year} TRANSACTION COUNT\",\n",
    "                                    fitbounds=\"locations\",\n",
    "                                    height=600, width=600)\n",
    "    fig_india_count.update_geos(visible=False)\n",
    "    fig_india_count.show()\n",
    "\n",
    "   # ---- DISTRICT LEVEL ----\n",
    "    \n",
    "    df_district = Toty[Toty[\"Entity_Level\"] == \"district\"]\n",
    "    grouped_district = df_district.groupby([\"State\", \"Entity_Name\"])[[\"Transaction_count\", \"Transaction_amount\"]].sum().reset_index()\n",
    "\n",
    "    if not grouped_district.empty:\n",
    "        fig_district_1 = px.bar(grouped_district, x=\"Entity_Name\", y=\"Transaction_amount\",\n",
    "                            title=f\"{year} TRANSACTION AMOUNT BY DISTRICT\",\n",
    "                            color=\"State\",\n",
    "                            height=650, width=1500)\n",
    "        fig_district_1.show()\n",
    "\n",
    "        fig_district_2 = px.bar(grouped_district, x=\"Entity_Name\", y=\"Transaction_count\",\n",
    "                           title=f\"{year} TRANSACTION COUNT BY DISTRICT\",\n",
    "                           color=\"State\",\n",
    "                           height=650, width=1500)\n",
    "        fig_district_2.show()\n",
    "\n",
    "    # ---- PINCODE LEVEL ----\n",
    "   \n",
    "    df_pincode = Toty[Toty[\"Entity_Level\"] == \"pincode\"]\n",
    "    grouped_pincode = df_pincode.groupby([\"State\", \"Entity_Name\"])[[\"Transaction_count\", \"Transaction_amount\"]].sum().reset_index()\n",
    "\n",
    "    if not grouped_pincode.empty:\n",
    "        fig_pincode_1 = px.bar(grouped_pincode, x=\"Entity_Name\", y=\"Transaction_amount\",\n",
    "                            title=f\"{year} TRANSACTION AMOUNT BY PINCODE\",\n",
    "                            color=\"State\",\n",
    "                            height=650, width=1500)\n",
    "        fig_pincode_1.show()\n",
    "\n",
    "        fig_pincode_2 = px.bar(grouped_pincode, x=\"Entity_Name\", y=\"Transaction_count\",\n",
    "                           title=f\"{year} TRANSACTION COUNT BY PINCODE\",\n",
    "                           color=\"State\",\n",
    "                           height=650, width=1500)\n",
    "        fig_pincode_2.show()\n",
    "        \n",
    "    return Toty\n"
   ]
  },
  {
   "cell_type": "code",
   "execution_count": null,
   "id": "fbb41279",
   "metadata": {},
   "outputs": [],
   "source": [
    "Top_tra_Y = Top_Transaction_amount_count_Y(Top_transaction, 2021)"
   ]
  },
  {
   "cell_type": "code",
   "execution_count": null,
   "id": "c8ff1950",
   "metadata": {},
   "outputs": [],
   "source": [
    "\n",
    "def Top_Transaction_amount_count_Q(df, quater):\n",
    "    # Filter for given Quarter\n",
    "    Totq = df[df[\"Quater\"] == quater]\n",
    "    Totq.reset_index(drop=True, inplace=True)\n",
    "\n",
    "    # ==============================\n",
    "    # ---- STATE LEVEL ----\n",
    "    # ==============================\n",
    "    grouped_state = Totq.groupby(\"State\")[[\"Transaction_count\", \"Transaction_amount\"]].sum().reset_index()\n",
    "\n",
    "    # Bar Plot Amount (State)\n",
    "    fig_bar_top1 = px.bar(grouped_state, x=\"State\", y=\"Transaction_amount\",\n",
    "                        title=f\"{Totq['Year'].min()} YEAR {quater} QUATER TRANSACTION AMOUNT\",\n",
    "                        color_discrete_sequence=px.colors.sequential.ice_r,\n",
    "                        height=650, width=800)\n",
    "    fig_bar_top1.show()\n",
    "\n",
    "    # Bar Plot Count (State)\n",
    "    fig_bar_top2 = px.bar(grouped_state, x=\"State\", y=\"Transaction_count\",\n",
    "                       title=f\"{Totq['Year'].min()} YEAR {quater} QUATER TRANSACTION COUNT\",\n",
    "                       color_discrete_sequence=px.colors.sequential.Bluered_r,\n",
    "                       height=650, width=800)\n",
    "    fig_bar_top2.show()\n",
    "\n",
    "    # Choropleth Map (State Level)\n",
    "    url = \"https://gist.githubusercontent.com/jbrobst/56c13bbbf9d97d187fea01ca62ea5112/raw/e388c4cae20aa53cb5090210a42ebb9b765c0a36/india_states.geojson\"\n",
    "    respo = requests.get(url)\n",
    "    india_map = json.loads(respo.content)\n",
    "\n",
    "    fig_india_amount = px.choropleth(grouped_state, geojson=india_map, locations=\"State\",\n",
    "                                     featureidkey=\"properties.ST_NM\",\n",
    "                                     color=\"Transaction_amount\", color_continuous_scale=\"rainbow\",\n",
    "                                     range_color=(grouped_state[\"Transaction_amount\"].min(),\n",
    "                                                  grouped_state[\"Transaction_amount\"].max()),\n",
    "                                     hover_name=\"State\",\n",
    "                                     title=f\"{Totq['Year'].min()} YEAR {quater} QUATER TRANSACTION AMOUNT\",\n",
    "                                     fitbounds=\"locations\",\n",
    "                                     height=600, width=600)\n",
    "    fig_india_amount.update_geos(visible=False)\n",
    "    fig_india_amount.show()\n",
    "\n",
    "    fig_india_count = px.choropleth(grouped_state, geojson=india_map, locations=\"State\",\n",
    "                                    featureidkey=\"properties.ST_NM\",\n",
    "                                    color=\"Transaction_count\", color_continuous_scale=\"rainbow\",\n",
    "                                    range_color=(grouped_state[\"Transaction_count\"].min(),\n",
    "                                                 grouped_state[\"Transaction_count\"].max()),\n",
    "                                    hover_name=\"State\",\n",
    "                                    title=f\"{Totq['Year'].min()} YEAR {quater} QUATER TRANSACTION COUNT\",\n",
    "                                    fitbounds=\"locations\",\n",
    "                                    height=600, width=600)\n",
    "    fig_india_count.update_geos(visible=False)\n",
    "    fig_india_count.show()\n",
    "\n",
    "    # ==============================\n",
    "    # ---- DISTRICT LEVEL ----\n",
    "    # ==============================\n",
    "    df_district = Totq[Totq[\"Entity_Level\"] == \"district\"]\n",
    "    grouped_district = df_district.groupby([\"State\", \"Entity_Name\"])[[\"Transaction_count\", \"Transaction_amount\"]].sum().reset_index()\n",
    "\n",
    "    if not grouped_district.empty:\n",
    "        fig_district_1 = px.bar(grouped_district, x=\"Entity_Name\", y=\"Transaction_amount\",\n",
    "                            title=f\"Q{quater} TRANSACTION AMOUNT BY DISTRICT\",\n",
    "                            color=\"State\",\n",
    "                            height=650, width=1500)\n",
    "        fig_district_1.show()\n",
    "\n",
    "        fig_district_2 = px.bar(grouped_district, x=\"Entity_Name\", y=\"Transaction_count\",\n",
    "                           title=f\"Q{quater} TRANSACTION COUNT BY DISTRICT\",\n",
    "                           color=\"State\",\n",
    "                           height=650, width=1500)\n",
    "        fig_district_2.show()\n",
    "\n",
    "    # ==============================\n",
    "    # ---- PINCODE LEVEL ----\n",
    "    # ==============================\n",
    "    df_pincode = Totq[Totq[\"Entity_Level\"] == \"pincode\"]\n",
    "    grouped_pincode = df_pincode.groupby([\"State\", \"Entity_Name\"])[[\"Transaction_count\", \"Transaction_amount\"]].sum().reset_index()\n",
    "\n",
    "    if not grouped_pincode.empty:\n",
    "        fig_pincode_1 = px.bar(grouped_pincode, x=\"Entity_Name\", y=\"Transaction_amount\",\n",
    "                            title=f\"Q{quater} TRANSACTION AMOUNT BY PINCODE\",\n",
    "                            color=\"State\",\n",
    "                            height=650, width=1500)\n",
    "        fig_pincode_1.show()\n",
    "\n",
    "        fig_pincode_2 = px.bar(grouped_pincode, x=\"Entity_Name\", y=\"Transaction_count\",\n",
    "                           title=f\"Q{quater} TRANSACTION COUNT BY PINCODE\",\n",
    "                           color=\"State\",\n",
    "                           height=650, width=1500)\n",
    "        fig_pincode_2.show()\n",
    "\n",
    "    return Totq\n"
   ]
  },
  {
   "cell_type": "code",
   "execution_count": null,
   "id": "8c40f1fd",
   "metadata": {},
   "outputs": [],
   "source": [
    "#Top transaction type\n",
    "\n",
    "def Top_Transaction_Type(df, state):\n",
    "    # Filter for the given state\n",
    "    Totqs = df[df[\"State\"] == state]\n",
    "    Totqs.reset_index(drop=True, inplace=True)\n",
    "\n",
    "    # District level\n",
    "    df_district = Totqs[Totqs[\"Entity_Level\"] == \"district\"]\n",
    "    grouped_district = df_district.groupby(\"Entity_Name\")[[\"Transaction_count\", \"Transaction_amount\"]].sum().reset_index()\n",
    "\n",
    "    if not grouped_district.empty:\n",
    "        fig_district_amount = px.pie(data_frame=grouped_district, \n",
    "                                     names=\"Entity_Name\", values=\"Transaction_amount\", width=600,\n",
    "                                     title=f\"{state.upper()} DISTRICT TRANSACTION AMOUNT\", hole=0.6)\n",
    "        fig_district_amount.show()\n",
    "\n",
    "        fig_district_count = px.pie(data_frame=grouped_district, \n",
    "                                    names=\"Entity_Name\", values=\"Transaction_count\", width=600,\n",
    "                                    title=f\"{state.upper()} DISTRICT TRANSACTION COUNT\", hole=0.6)\n",
    "        fig_district_count.show()\n",
    "\n",
    "    # Pincode level\n",
    "    df_pincode = Totqs[Totqs[\"Entity_Level\"] == \"pincode\"]\n",
    "    grouped_pincode = df_pincode.groupby(\"Entity_Name\")[[\"Transaction_count\", \"Transaction_amount\"]].sum().reset_index()\n",
    "\n",
    "    if not grouped_pincode.empty:\n",
    "        fig_pincode_amount = px.pie(data_frame=grouped_pincode, \n",
    "                                    names=\"Entity_Name\", values=\"Transaction_amount\", width=600,\n",
    "                                    title=f\"{state.upper()} PINCODE TRANSACTION AMOUNT\", hole=0.6)\n",
    "        fig_pincode_amount.show()\n",
    "\n",
    "        fig_pincode_count = px.pie(data_frame=grouped_pincode, \n",
    "                                   names=\"Entity_Name\", values=\"Transaction_count\", width=600,\n",
    "                                   title=f\"{state.upper()} PINCODE TRANSACTION COUNT\", hole=0.6)\n",
    "        fig_pincode_count.show()\n"
   ]
  },
  {
   "cell_type": "code",
   "execution_count": null,
   "id": "a2bbd43e",
   "metadata": {},
   "outputs": [],
   "source": [
    "Top_tra_Y_Q = Top_Transaction_amount_count_Q(Top_tra_Y, 3)"
   ]
  },
  {
   "cell_type": "code",
   "execution_count": null,
   "id": "85df6bfe",
   "metadata": {},
   "outputs": [],
   "source": [
    "Top_Transaction_Type(Top_tra_Y_Q,\"Tamil Nadu\")"
   ]
  },
  {
   "cell_type": "markdown",
   "id": "b19b415b",
   "metadata": {},
   "source": [
    "## Top insurance"
   ]
  },
  {
   "cell_type": "code",
   "execution_count": 124,
   "id": "a5c9b4b3",
   "metadata": {},
   "outputs": [
    {
     "data": {
      "text/html": [
       "<div>\n",
       "<style scoped>\n",
       "    .dataframe tbody tr th:only-of-type {\n",
       "        vertical-align: middle;\n",
       "    }\n",
       "\n",
       "    .dataframe tbody tr th {\n",
       "        vertical-align: top;\n",
       "    }\n",
       "\n",
       "    .dataframe thead th {\n",
       "        text-align: right;\n",
       "    }\n",
       "</style>\n",
       "<table border=\"1\" class=\"dataframe\">\n",
       "  <thead>\n",
       "    <tr style=\"text-align: right;\">\n",
       "      <th></th>\n",
       "      <th>State</th>\n",
       "      <th>Year</th>\n",
       "      <th>Quater</th>\n",
       "      <th>Entity_Level</th>\n",
       "      <th>Entity_Name</th>\n",
       "      <th>Insurance_count</th>\n",
       "      <th>Insurance_amount</th>\n",
       "    </tr>\n",
       "  </thead>\n",
       "  <tbody>\n",
       "    <tr>\n",
       "      <th>0</th>\n",
       "      <td>Andaman &amp; Nicobar</td>\n",
       "      <td>2020</td>\n",
       "      <td>2</td>\n",
       "      <td>district</td>\n",
       "      <td>nicobars</td>\n",
       "      <td>3.0</td>\n",
       "      <td>565.0</td>\n",
       "    </tr>\n",
       "    <tr>\n",
       "      <th>1</th>\n",
       "      <td>Andaman &amp; Nicobar</td>\n",
       "      <td>2020</td>\n",
       "      <td>2</td>\n",
       "      <td>pincode</td>\n",
       "      <td>744301</td>\n",
       "      <td>3.0</td>\n",
       "      <td>565.0</td>\n",
       "    </tr>\n",
       "    <tr>\n",
       "      <th>2</th>\n",
       "      <td>Andaman &amp; Nicobar</td>\n",
       "      <td>2020</td>\n",
       "      <td>2</td>\n",
       "      <td>pincode</td>\n",
       "      <td>744104</td>\n",
       "      <td>2.0</td>\n",
       "      <td>513.0</td>\n",
       "    </tr>\n",
       "    <tr>\n",
       "      <th>3</th>\n",
       "      <td>Andaman &amp; Nicobar</td>\n",
       "      <td>2020</td>\n",
       "      <td>2</td>\n",
       "      <td>pincode</td>\n",
       "      <td>744101</td>\n",
       "      <td>1.0</td>\n",
       "      <td>282.0</td>\n",
       "    </tr>\n",
       "    <tr>\n",
       "      <th>4</th>\n",
       "      <td>Andaman &amp; Nicobar</td>\n",
       "      <td>2020</td>\n",
       "      <td>2</td>\n",
       "      <td>district</td>\n",
       "      <td>south andaman</td>\n",
       "      <td>3.0</td>\n",
       "      <td>795.0</td>\n",
       "    </tr>\n",
       "    <tr>\n",
       "      <th>...</th>\n",
       "      <td>...</td>\n",
       "      <td>...</td>\n",
       "      <td>...</td>\n",
       "      <td>...</td>\n",
       "      <td>...</td>\n",
       "      <td>...</td>\n",
       "      <td>...</td>\n",
       "    </tr>\n",
       "    <tr>\n",
       "      <th>61436</th>\n",
       "      <td>West Bengal</td>\n",
       "      <td>2024</td>\n",
       "      <td>4</td>\n",
       "      <td>pincode</td>\n",
       "      <td>711101</td>\n",
       "      <td>713.0</td>\n",
       "      <td>750354.0</td>\n",
       "    </tr>\n",
       "    <tr>\n",
       "      <th>61437</th>\n",
       "      <td>West Bengal</td>\n",
       "      <td>2024</td>\n",
       "      <td>4</td>\n",
       "      <td>pincode</td>\n",
       "      <td>700091</td>\n",
       "      <td>642.0</td>\n",
       "      <td>969634.0</td>\n",
       "    </tr>\n",
       "    <tr>\n",
       "      <th>61438</th>\n",
       "      <td>West Bengal</td>\n",
       "      <td>2024</td>\n",
       "      <td>4</td>\n",
       "      <td>pincode</td>\n",
       "      <td>700150</td>\n",
       "      <td>627.0</td>\n",
       "      <td>761501.0</td>\n",
       "    </tr>\n",
       "    <tr>\n",
       "      <th>61439</th>\n",
       "      <td>West Bengal</td>\n",
       "      <td>2024</td>\n",
       "      <td>4</td>\n",
       "      <td>pincode</td>\n",
       "      <td>700039</td>\n",
       "      <td>619.0</td>\n",
       "      <td>787836.0</td>\n",
       "    </tr>\n",
       "    <tr>\n",
       "      <th>61440</th>\n",
       "      <td>West Bengal</td>\n",
       "      <td>2024</td>\n",
       "      <td>4</td>\n",
       "      <td>pincode</td>\n",
       "      <td>700156</td>\n",
       "      <td>574.0</td>\n",
       "      <td>888613.0</td>\n",
       "    </tr>\n",
       "  </tbody>\n",
       "</table>\n",
       "<p>61441 rows × 7 columns</p>\n",
       "</div>"
      ],
      "text/plain": [
       "                   State  Year  Quater Entity_Level    Entity_Name  \\\n",
       "0      Andaman & Nicobar  2020       2     district       nicobars   \n",
       "1      Andaman & Nicobar  2020       2      pincode         744301   \n",
       "2      Andaman & Nicobar  2020       2      pincode         744104   \n",
       "3      Andaman & Nicobar  2020       2      pincode         744101   \n",
       "4      Andaman & Nicobar  2020       2     district  south andaman   \n",
       "...                  ...   ...     ...          ...            ...   \n",
       "61436        West Bengal  2024       4      pincode         711101   \n",
       "61437        West Bengal  2024       4      pincode         700091   \n",
       "61438        West Bengal  2024       4      pincode         700150   \n",
       "61439        West Bengal  2024       4      pincode         700039   \n",
       "61440        West Bengal  2024       4      pincode         700156   \n",
       "\n",
       "       Insurance_count  Insurance_amount  \n",
       "0                  3.0             565.0  \n",
       "1                  3.0             565.0  \n",
       "2                  2.0             513.0  \n",
       "3                  1.0             282.0  \n",
       "4                  3.0             795.0  \n",
       "...                ...               ...  \n",
       "61436            713.0          750354.0  \n",
       "61437            642.0          969634.0  \n",
       "61438            627.0          761501.0  \n",
       "61439            619.0          787836.0  \n",
       "61440            574.0          888613.0  \n",
       "\n",
       "[61441 rows x 7 columns]"
      ]
     },
     "execution_count": 124,
     "metadata": {},
     "output_type": "execute_result"
    }
   ],
   "source": [
    "Top_insurance"
   ]
  },
  {
   "cell_type": "code",
   "execution_count": 122,
   "id": "821473a0",
   "metadata": {},
   "outputs": [],
   "source": [
    "# Top Insurance year function\n",
    "\n",
    "def Top_Insurance_amount_count_Y(df, year):\n",
    "    # Filter for given year\n",
    "    Toiy = df[df[\"Year\"] == year]\n",
    "    Toiy.reset_index(drop=True, inplace=True)\n",
    "    \n",
    "    # ---- STATE LEVEL ----\n",
    "    Toiyg = Toiy.groupby(\"State\")[[\"Insurance_count\", \"Insurance_amount\"]].sum().reset_index()\n",
    "    Toiyg.reset_index(inplace=True)\n",
    "\n",
    "    # Bar Plot Amount (State)\n",
    "    fig_bar_top1 = px.bar(Toiyg, x=\"State\", y=\"Insurance_amount\",\n",
    "                          title=f\"{year} INSURANCE AMOUNT\",\n",
    "                          color_discrete_sequence=px.colors.sequential.Peach,\n",
    "                          height=650, width=800)\n",
    "    fig_bar_top1.show()\n",
    "\n",
    "    # Bar Plot Count (State)\n",
    "    fig_bar_top2 = px.bar(Toiyg, x=\"State\", y=\"Insurance_count\",\n",
    "                          title=f\"{year} INSURANCE COUNT\",\n",
    "                          color_discrete_sequence=px.colors.sequential.Pinkyl_r,\n",
    "                          height=650, width=800)\n",
    "    fig_bar_top2.show()\n",
    "\n",
    "    # Choropleth Map (State Level)\n",
    "    url = \"https://gist.githubusercontent.com/jbrobst/56c13bbbf9d97d187fea01ca62ea5112/raw/e388c4cae20aa53cb5090210a42ebb9b765c0a36/india_states.geojson\"\n",
    "    respo = requests.get(url)\n",
    "    india_map = json.loads(respo.content)\n",
    "\n",
    "    fig_india_amount = px.choropleth(Toiyg, geojson=india_map, locations=\"State\",\n",
    "                                     featureidkey=\"properties.ST_NM\",\n",
    "                                     color=\"Insurance_amount\", color_continuous_scale=\"rainbow\",\n",
    "                                     range_color=(Toiyg[\"Insurance_amount\"].min(),\n",
    "                                                  Toiyg[\"Insurance_amount\"].max()),\n",
    "                                     hover_name=\"State\",\n",
    "                                     title=f\"{year} INSURANCE AMOUNT\",\n",
    "                                     fitbounds=\"locations\",\n",
    "                                     height=600, width=600)\n",
    "    fig_india_amount.update_geos(visible=False)\n",
    "    fig_india_amount.show()\n",
    "\n",
    "    fig_india_count = px.choropleth(Toiyg, geojson=india_map, locations=\"State\",\n",
    "                                    featureidkey=\"properties.ST_NM\",\n",
    "                                    color=\"Insurance_count\", color_continuous_scale=\"rainbow\",\n",
    "                                    range_color=(Toiyg[\"Insurance_count\"].min(),\n",
    "                                                 Toiyg[\"Insurance_count\"].max()),\n",
    "                                    hover_name=\"State\",\n",
    "                                    title=f\"{year} INSURANCE COUNT\",\n",
    "                                    fitbounds=\"locations\",\n",
    "                                    height=600, width=600)\n",
    "    fig_india_count.update_geos(visible=False)\n",
    "    fig_india_count.show()\n",
    "\n",
    "    # ---- DISTRICT LEVEL ----\n",
    "    df_district = Toiy[Toiy[\"Entity_Level\"] == \"district\"]\n",
    "    grouped_district = df_district.groupby([\"State\", \"Entity_Name\"])[[\"Insurance_count\", \"Insurance_amount\"]].sum().reset_index()\n",
    "\n",
    "    if not grouped_district.empty:\n",
    "        fig_district_1 = px.bar(grouped_district, x=\"Entity_Name\", y=\"Insurance_amount\",\n",
    "                                title=f\"{year} INSURANCE AMOUNT BY DISTRICT\",\n",
    "                                color=\"State\",\n",
    "                                height=650, width=1500)\n",
    "        fig_district_1.show()\n",
    "\n",
    "        fig_district_2 = px.bar(grouped_district, x=\"Entity_Name\", y=\"Insurance_count\",\n",
    "                                title=f\"{year} INSURANCE COUNT BY DISTRICT\",\n",
    "                                color=\"State\",\n",
    "                                height=650, width=1500)\n",
    "        fig_district_2.show()\n",
    "\n",
    "    # ---- PINCODE LEVEL ----\n",
    "    df_pincode = Toiy[Toiy[\"Entity_Level\"] == \"pincode\"]\n",
    "    grouped_pincode = df_pincode.groupby([\"State\", \"Entity_Name\"])[[\"Insurance_count\", \"Insurance_amount\"]].sum().reset_index()\n",
    "\n",
    "    if not grouped_pincode.empty:\n",
    "        fig_pincode_1 = px.bar(grouped_pincode, x=\"Entity_Name\", y=\"Insurance_amount\",\n",
    "                               title=f\"{year} INSURANCE AMOUNT BY PINCODE\",\n",
    "                               color=\"State\",\n",
    "                               height=650, width=1500)\n",
    "        fig_pincode_1.show()\n",
    "\n",
    "        fig_pincode_2 = px.bar(grouped_pincode, x=\"Entity_Name\", y=\"Insurance_count\",\n",
    "                               title=f\"{year} INSURANCE COUNT BY PINCODE\",\n",
    "                               color=\"State\",\n",
    "                               height=650, width=1500)\n",
    "        fig_pincode_2.show()\n",
    "\n",
    "    return Toiy\n"
   ]
  },
  {
   "cell_type": "code",
   "execution_count": 92,
   "id": "413ec67c",
   "metadata": {},
   "outputs": [],
   "source": [
    "def Top_Insurance_amount_count_Q(df, quater):\n",
    "    # Filter for given Quarter\n",
    "    Toiy = df[df[\"Quater\"] == quater]\n",
    "    Toiy.reset_index(drop=True, inplace=True)\n",
    "\n",
    "    # ==============================\n",
    "    # ---- STATE LEVEL ----\n",
    "    # ==============================\n",
    "    grouped_state = Toiy.groupby(\"State\")[[\"Insurance_count\", \"Insurance_amount\"]].sum().reset_index()\n",
    "\n",
    "    # Bar Plot Amount (State)\n",
    "    fig_bar_top1 = px.bar(grouped_state, x=\"State\", y=\"Insurance_amount\",\n",
    "                        title=f\"{Toiy['Year'].min()} YEAR {quater} QUATER INSURANCE AMOUNT\",\n",
    "                        color_discrete_sequence=px.colors.sequential.RdPu_r,\n",
    "                        height=650, width=800)\n",
    "    fig_bar_top1.show()\n",
    "\n",
    "    # Bar Plot Count (State)\n",
    "    fig_bar_top2 = px.bar(grouped_state, x=\"State\", y=\"Insurance_count\",\n",
    "                       title=f\"{Toiy['Year'].min()} YEAR {quater} QUATER INSURANCE COUNT\",\n",
    "                       color_discrete_sequence=px.colors.sequential.Tealgrn,\n",
    "                       height=650, width=800)\n",
    "    fig_bar_top2.show()\n",
    "\n",
    "    # Choropleth Map (State Level)\n",
    "    url = \"https://gist.githubusercontent.com/jbrobst/56c13bbbf9d97d187fea01ca62ea5112/raw/e388c4cae20aa53cb5090210a42ebb9b765c0a36/india_states.geojson\"\n",
    "    respo = requests.get(url)\n",
    "    india_map = json.loads(respo.content)\n",
    "\n",
    "    fig_india_amount = px.choropleth(grouped_state, geojson=india_map, locations=\"State\",\n",
    "                                     featureidkey=\"properties.ST_NM\",\n",
    "                                     color=\"Insurance_amount\", color_continuous_scale=\"rainbow\",\n",
    "                                     range_color=(grouped_state[\"Insurance_amount\"].min(),\n",
    "                                                  grouped_state[\"Insurance_amount\"].max()),\n",
    "                                     hover_name=\"State\",\n",
    "                                     title=f\"{Toiy['Year'].min()} YEAR {quater} QUATER INSURANCE AMOUNT\",\n",
    "                                     fitbounds=\"locations\",\n",
    "                                     height=600, width=600)\n",
    "    fig_india_amount.update_geos(visible=False)\n",
    "    fig_india_amount.show()\n",
    "\n",
    "    fig_india_count = px.choropleth(grouped_state, geojson=india_map, locations=\"State\",\n",
    "                                    featureidkey=\"properties.ST_NM\",\n",
    "                                    color=\"Insurance_count\", color_continuous_scale=\"rainbow\",\n",
    "                                    range_color=(grouped_state[\"Insurance_count\"].min(),\n",
    "                                                 grouped_state[\"Insurance_count\"].max()),\n",
    "                                    hover_name=\"State\",\n",
    "                                    title=f\"{Toiy['Year'].min()} YEAR {quater} QUATER INSURANCE COUNT\",\n",
    "                                    fitbounds=\"locations\",\n",
    "                                    height=600, width=600)\n",
    "    fig_india_count.update_geos(visible=False)\n",
    "    fig_india_count.show()\n",
    "\n",
    "    # ==============================\n",
    "    # ---- DISTRICT LEVEL ----\n",
    "    # ==============================\n",
    "    df_district = Toiy[Toiy[\"Entity_Level\"] == \"district\"]\n",
    "    grouped_district = df_district.groupby([\"State\", \"Entity_Name\"])[[\"Insurance_count\", \"Insurance_amount\"]].sum().reset_index()\n",
    "\n",
    "    if not grouped_district.empty:\n",
    "        fig_district_1 = px.bar(grouped_district, x=\"Entity_Name\", y=\"Insurance_amount\",\n",
    "                            title=f\"Q{quater} INSURANCE AMOUNT BY DISTRICT\",\n",
    "                            color=\"State\",\n",
    "                            height=650, width=1500)\n",
    "        fig_district_1.show()\n",
    "\n",
    "        fig_district_2 = px.bar(grouped_district, x=\"Entity_Name\", y=\"Insurance_count\",\n",
    "                           title=f\"Q{quater} INSURANCE COUNT BY DISTRICT\",\n",
    "                           color=\"State\",\n",
    "                           height=650, width=1500)\n",
    "        fig_district_2.show()\n",
    "\n",
    "    # ==============================\n",
    "    # ---- PINCODE LEVEL ----\n",
    "    # ==============================\n",
    "    df_pincode = Toiy[Toiy[\"Entity_Level\"] == \"pincode\"]\n",
    "    grouped_pincode = df_pincode.groupby([\"State\", \"Entity_Name\"])[[\"Insurance_count\", \"Insurance_amount\"]].sum().reset_index()\n",
    "\n",
    "    if not grouped_pincode.empty:\n",
    "        fig_pincode_1 = px.bar(grouped_pincode, x=\"Entity_Name\", y=\"Insurance_amount\",\n",
    "                            title=f\"Q{quater} INSURANCE AMOUNT BY PINCODE\",\n",
    "                            color=\"State\",\n",
    "                            height=650, width=1500)\n",
    "        fig_pincode_1.show()\n",
    "\n",
    "        fig_pincode_2 = px.bar(grouped_pincode, x=\"Entity_Name\", y=\"Insurance_count\",\n",
    "                           title=f\"Q{quater} INSURANCE COUNT BY PINCODE\",\n",
    "                           color=\"State\",\n",
    "                           height=650, width=1500)\n",
    "        fig_pincode_2.show()\n",
    "\n",
    "    return Toiy\n"
   ]
  },
  {
   "cell_type": "code",
   "execution_count": 116,
   "id": "876ca81a",
   "metadata": {},
   "outputs": [],
   "source": [
    "def Top_insurance_dis(df, state, level=\"district\"):\n",
    "    # Filter for state and entity level (district or pincode)\n",
    "    Toiyd = df[(df[\"State\"] == state) & (df[\"Entity_Level\"] == level)]\n",
    "    Toiyd.reset_index(drop=True, inplace=True)\n",
    "\n",
    "    # Group by Entity_Name (works for both district & pincode)\n",
    "    Toiydg = Toiyd.groupby(\"Entity_Name\")[[\"Insurance_count\", \"Insurance_amount\"]].sum()\n",
    "    Toiydg.reset_index(inplace=True)\n",
    "\n",
    "    fig_bar_1 = px.bar(\n",
    "        Toiydg, x=\"Insurance_amount\", y=\"Entity_Name\", orientation=\"h\", height=600,\n",
    "        title=f\"{state.upper()} {level.upper()} - INSURANCE AMOUNT\",\n",
    "        color_discrete_sequence=px.colors.sequential.RdPu_r\n",
    "    )\n",
    "    fig_bar_1.show()\n",
    "\n",
    "    fig_bar_2 = px.bar(\n",
    "        Toiydg, x=\"Insurance_count\", y=\"Entity_Name\", orientation=\"h\", height=600,\n",
    "        title=f\"{state.upper()} {level.upper()} - INSURANCE COUNT\",\n",
    "        color_discrete_sequence=px.colors.sequential.Sunsetdark_r\n",
    "    )\n",
    "    fig_bar_2.show()\n"
   ]
  },
  {
   "cell_type": "code",
   "execution_count": null,
   "id": "1bfd78a7",
   "metadata": {},
   "outputs": [],
   "source": [
    "Top_Ins_Y= Top_Insurance_amount_count_Y(Top_insurance, 2020)"
   ]
  },
  {
   "cell_type": "code",
   "execution_count": null,
   "id": "a13922d4",
   "metadata": {},
   "outputs": [],
   "source": [
    "Top_ins_Y_Q = Top_Insurance_amount_count_Q(Top_Ins_Y, 2)"
   ]
  },
  {
   "cell_type": "code",
   "execution_count": null,
   "id": "2c7a365b",
   "metadata": {},
   "outputs": [],
   "source": [
    "Top_insurance_dis(Top_ins_Y_Q,\"Tamil Nadu\")"
   ]
  },
  {
   "cell_type": "markdown",
   "id": "068e2eb4",
   "metadata": {},
   "source": [
    "## Top User"
   ]
  },
  {
   "cell_type": "code",
   "execution_count": 4,
   "id": "852d57fe",
   "metadata": {},
   "outputs": [
    {
     "data": {
      "text/html": [
       "<div>\n",
       "<style scoped>\n",
       "    .dataframe tbody tr th:only-of-type {\n",
       "        vertical-align: middle;\n",
       "    }\n",
       "\n",
       "    .dataframe tbody tr th {\n",
       "        vertical-align: top;\n",
       "    }\n",
       "\n",
       "    .dataframe thead th {\n",
       "        text-align: right;\n",
       "    }\n",
       "</style>\n",
       "<table border=\"1\" class=\"dataframe\">\n",
       "  <thead>\n",
       "    <tr style=\"text-align: right;\">\n",
       "      <th></th>\n",
       "      <th>State</th>\n",
       "      <th>Year</th>\n",
       "      <th>Quater</th>\n",
       "      <th>Entity_Level</th>\n",
       "      <th>Name</th>\n",
       "      <th>Registered_Users</th>\n",
       "    </tr>\n",
       "  </thead>\n",
       "  <tbody>\n",
       "    <tr>\n",
       "      <th>0</th>\n",
       "      <td>Andaman &amp; Nicobar</td>\n",
       "      <td>2018</td>\n",
       "      <td>1</td>\n",
       "      <td>district</td>\n",
       "      <td>south andaman</td>\n",
       "      <td>5846</td>\n",
       "    </tr>\n",
       "    <tr>\n",
       "      <th>1</th>\n",
       "      <td>Andaman &amp; Nicobar</td>\n",
       "      <td>2018</td>\n",
       "      <td>1</td>\n",
       "      <td>district</td>\n",
       "      <td>north and middle andaman</td>\n",
       "      <td>632</td>\n",
       "    </tr>\n",
       "    <tr>\n",
       "      <th>2</th>\n",
       "      <td>Andaman &amp; Nicobar</td>\n",
       "      <td>2018</td>\n",
       "      <td>1</td>\n",
       "      <td>district</td>\n",
       "      <td>nicobars</td>\n",
       "      <td>262</td>\n",
       "    </tr>\n",
       "    <tr>\n",
       "      <th>3</th>\n",
       "      <td>Andaman &amp; Nicobar</td>\n",
       "      <td>2018</td>\n",
       "      <td>1</td>\n",
       "      <td>pincode</td>\n",
       "      <td>744103</td>\n",
       "      <td>1608</td>\n",
       "    </tr>\n",
       "    <tr>\n",
       "      <th>4</th>\n",
       "      <td>Andaman &amp; Nicobar</td>\n",
       "      <td>2018</td>\n",
       "      <td>1</td>\n",
       "      <td>pincode</td>\n",
       "      <td>744101</td>\n",
       "      <td>1108</td>\n",
       "    </tr>\n",
       "    <tr>\n",
       "      <th>...</th>\n",
       "      <td>...</td>\n",
       "      <td>...</td>\n",
       "      <td>...</td>\n",
       "      <td>...</td>\n",
       "      <td>...</td>\n",
       "      <td>...</td>\n",
       "    </tr>\n",
       "    <tr>\n",
       "      <th>18291</th>\n",
       "      <td>West Bengal</td>\n",
       "      <td>2024</td>\n",
       "      <td>4</td>\n",
       "      <td>pincode</td>\n",
       "      <td>733134</td>\n",
       "      <td>169596</td>\n",
       "    </tr>\n",
       "    <tr>\n",
       "      <th>18292</th>\n",
       "      <td>West Bengal</td>\n",
       "      <td>2024</td>\n",
       "      <td>4</td>\n",
       "      <td>pincode</td>\n",
       "      <td>700059</td>\n",
       "      <td>169448</td>\n",
       "    </tr>\n",
       "    <tr>\n",
       "      <th>18293</th>\n",
       "      <td>West Bengal</td>\n",
       "      <td>2024</td>\n",
       "      <td>4</td>\n",
       "      <td>pincode</td>\n",
       "      <td>711302</td>\n",
       "      <td>146034</td>\n",
       "    </tr>\n",
       "    <tr>\n",
       "      <th>18294</th>\n",
       "      <td>West Bengal</td>\n",
       "      <td>2024</td>\n",
       "      <td>4</td>\n",
       "      <td>pincode</td>\n",
       "      <td>700150</td>\n",
       "      <td>142151</td>\n",
       "    </tr>\n",
       "    <tr>\n",
       "      <th>18295</th>\n",
       "      <td>West Bengal</td>\n",
       "      <td>2024</td>\n",
       "      <td>4</td>\n",
       "      <td>pincode</td>\n",
       "      <td>711106</td>\n",
       "      <td>142077</td>\n",
       "    </tr>\n",
       "  </tbody>\n",
       "</table>\n",
       "<p>18296 rows × 6 columns</p>\n",
       "</div>"
      ],
      "text/plain": [
       "                   State  Year  Quater Entity_Level                      Name  \\\n",
       "0      Andaman & Nicobar  2018       1     district             south andaman   \n",
       "1      Andaman & Nicobar  2018       1     district  north and middle andaman   \n",
       "2      Andaman & Nicobar  2018       1     district                  nicobars   \n",
       "3      Andaman & Nicobar  2018       1      pincode                    744103   \n",
       "4      Andaman & Nicobar  2018       1      pincode                    744101   \n",
       "...                  ...   ...     ...          ...                       ...   \n",
       "18291        West Bengal  2024       4      pincode                    733134   \n",
       "18292        West Bengal  2024       4      pincode                    700059   \n",
       "18293        West Bengal  2024       4      pincode                    711302   \n",
       "18294        West Bengal  2024       4      pincode                    700150   \n",
       "18295        West Bengal  2024       4      pincode                    711106   \n",
       "\n",
       "      Registered_Users  \n",
       "0                 5846  \n",
       "1                  632  \n",
       "2                  262  \n",
       "3                 1608  \n",
       "4                 1108  \n",
       "...                ...  \n",
       "18291           169596  \n",
       "18292           169448  \n",
       "18293           146034  \n",
       "18294           142151  \n",
       "18295           142077  \n",
       "\n",
       "[18296 rows x 6 columns]"
      ]
     },
     "execution_count": 4,
     "metadata": {},
     "output_type": "execute_result"
    }
   ],
   "source": [
    "Top_user"
   ]
  },
  {
   "cell_type": "code",
   "execution_count": 10,
   "id": "6d27eed6",
   "metadata": {},
   "outputs": [],
   "source": [
    "\n",
    "def Top_user_plot_1(df, year):\n",
    "   \n",
    "    df[\"Registered_Users\"] = pd.to_numeric(df[\"Registered_Users\"], errors=\"coerce\").fillna(0)\n",
    "\n",
    "    tuy = df[df[\"Year\"] == year].reset_index(drop=True)\n",
    "\n",
    "    tuyg = tuy.groupby([\"State\", \"Quater\"])[\"Registered_Users\"].sum().reset_index()\n",
    "\n",
    "    fig = px.bar(tuyg, x=\"State\", y=\"Registered_Users\", color=\"Quater\", barmode=\"group\", width=1000, height=800,\n",
    "        color_discrete_sequence=px.colors.sequential.Oranges_r, hover_name=\"State\", title=f\"{year} REGISTERED USERS\")\n",
    "    fig.show()\n",
    "\n",
    "    return tuyg\n"
   ]
  },
  {
   "cell_type": "code",
   "execution_count": null,
   "id": "2e8cf63c",
   "metadata": {},
   "outputs": [],
   "source": [
    "Top_user_Y = Top_user_plot_1(Top_user, 2019)"
   ]
  },
  {
   "cell_type": "code",
   "execution_count": null,
   "id": "4aac1702",
   "metadata": {},
   "outputs": [],
   "source": [
    "import pandas as pd\n",
    "import plotly.express as px\n",
    "\n",
    "def Top_user_plot_2(df, state):\n",
    "    # Normalize strings for consistent matching\n",
    "    tuys = df[df[\"State\"].str.strip().str.lower() == state.strip().lower()].reset_index(drop=True)\n",
    "\n",
    "    # Ask user to choose between District or Pincode\n",
    "    level = input(\"Select Level (District/Pincode): \").strip().capitalize()\n",
    "\n",
    "    if level == \"District\":\n",
    "        tuys = tuys[tuys[\"Entity_Level\"].str.lower() == \"district\"].rename(columns={\"Name\": \"District\"})\n",
    "        hover_column = \"District\"\n",
    "        title = f\"Registered Users by District ({state})\"\n",
    "        color_seq = px.colors.sequential.algae_r\n",
    "\n",
    "    elif level == \"Pincode\":\n",
    "        tuys = tuys[tuys[\"Entity_Level\"].str.lower() == \"pincode\"].rename(columns={\"Name\": \"Pincode\"})\n",
    "        hover_column = \"Pincode\"\n",
    "        title = f\"Registered Users by Pincode ({state})\"\n",
    "        color_seq = px.colors.sequential.Viridis_r\n",
    "\n",
    "    # Plot\n",
    "    fig = px.bar(\n",
    "        tuys,\n",
    "        x=\"Quater\",\n",
    "        y=\"Registered_Users\",\n",
    "        color=\"Registered_Users\",\n",
    "        hover_data=[\"Entity_Level\", hover_column],\n",
    "        title= \"REGISTERED USERS, PINCODE, DISTRICTS\",\n",
    "        width=1000,\n",
    "        height=800,\n",
    "        color_discrete_sequence=color_seq\n",
    "    )\n",
    "    fig.show()\n"
   ]
  },
  {
   "cell_type": "code",
   "execution_count": 41,
   "id": "45aa7d99",
   "metadata": {},
   "outputs": [
    {
     "data": {
      "application/vnd.plotly.v1+json": {
       "config": {
        "plotlyServerURL": "https://plot.ly"
       },
       "data": [
        {
         "customdata": [
          [
           "district",
           "chennai"
          ],
          [
           "district",
           "thiruvallur"
          ],
          [
           "district",
           "chengalpattu"
          ],
          [
           "district",
           "coimbatore"
          ],
          [
           "district",
           "kancheepuram"
          ],
          [
           "district",
           "salem"
          ],
          [
           "district",
           "tiruppur"
          ],
          [
           "district",
           "madurai"
          ],
          [
           "district",
           "krishnagiri"
          ],
          [
           "district",
           "tiruchirappalli"
          ],
          [
           "district",
           "chennai"
          ],
          [
           "district",
           "thiruvallur"
          ],
          [
           "district",
           "chengalpattu"
          ],
          [
           "district",
           "coimbatore"
          ],
          [
           "district",
           "kancheepuram"
          ],
          [
           "district",
           "tiruppur"
          ],
          [
           "district",
           "salem"
          ],
          [
           "district",
           "madurai"
          ],
          [
           "district",
           "krishnagiri"
          ],
          [
           "district",
           "tiruchirappalli"
          ],
          [
           "district",
           "chennai"
          ],
          [
           "district",
           "thiruvallur"
          ],
          [
           "district",
           "chengalpattu"
          ],
          [
           "district",
           "coimbatore"
          ],
          [
           "district",
           "kancheepuram"
          ],
          [
           "district",
           "tiruppur"
          ],
          [
           "district",
           "salem"
          ],
          [
           "district",
           "madurai"
          ],
          [
           "district",
           "krishnagiri"
          ],
          [
           "district",
           "tiruchirappalli"
          ],
          [
           "district",
           "chennai"
          ],
          [
           "district",
           "thiruvallur"
          ],
          [
           "district",
           "chengalpattu"
          ],
          [
           "district",
           "coimbatore"
          ],
          [
           "district",
           "kancheepuram"
          ],
          [
           "district",
           "tiruppur"
          ],
          [
           "district",
           "salem"
          ],
          [
           "district",
           "madurai"
          ],
          [
           "district",
           "krishnagiri"
          ],
          [
           "district",
           "tiruchirappalli"
          ],
          [
           "district",
           "chennai"
          ],
          [
           "district",
           "thiruvallur"
          ],
          [
           "district",
           "chengalpattu"
          ],
          [
           "district",
           "coimbatore"
          ],
          [
           "district",
           "kancheepuram"
          ],
          [
           "district",
           "tiruppur"
          ],
          [
           "district",
           "salem"
          ],
          [
           "district",
           "madurai"
          ],
          [
           "district",
           "krishnagiri"
          ],
          [
           "district",
           "tiruchirappalli"
          ],
          [
           "district",
           "chennai"
          ],
          [
           "district",
           "thiruvallur"
          ],
          [
           "district",
           "chengalpattu"
          ],
          [
           "district",
           "coimbatore"
          ],
          [
           "district",
           "kancheepuram"
          ],
          [
           "district",
           "tiruppur"
          ],
          [
           "district",
           "salem"
          ],
          [
           "district",
           "madurai"
          ],
          [
           "district",
           "krishnagiri"
          ],
          [
           "district",
           "tiruchirappalli"
          ],
          [
           "district",
           "chennai"
          ],
          [
           "district",
           "thiruvallur"
          ],
          [
           "district",
           "chengalpattu"
          ],
          [
           "district",
           "coimbatore"
          ],
          [
           "district",
           "kancheepuram"
          ],
          [
           "district",
           "tiruppur"
          ],
          [
           "district",
           "salem"
          ],
          [
           "district",
           "madurai"
          ],
          [
           "district",
           "krishnagiri"
          ],
          [
           "district",
           "tiruchirappalli"
          ],
          [
           "district",
           "chennai"
          ],
          [
           "district",
           "thiruvallur"
          ],
          [
           "district",
           "chengalpattu"
          ],
          [
           "district",
           "coimbatore"
          ],
          [
           "district",
           "kancheepuram"
          ],
          [
           "district",
           "tiruppur"
          ],
          [
           "district",
           "salem"
          ],
          [
           "district",
           "madurai"
          ],
          [
           "district",
           "krishnagiri"
          ],
          [
           "district",
           "tiruchirappalli"
          ],
          [
           "district",
           "chennai"
          ],
          [
           "district",
           "thiruvallur"
          ],
          [
           "district",
           "chengalpattu"
          ],
          [
           "district",
           "coimbatore"
          ],
          [
           "district",
           "kancheepuram"
          ],
          [
           "district",
           "tiruppur"
          ],
          [
           "district",
           "salem"
          ],
          [
           "district",
           "madurai"
          ],
          [
           "district",
           "krishnagiri"
          ],
          [
           "district",
           "tiruchirappalli"
          ],
          [
           "district",
           "chennai"
          ],
          [
           "district",
           "thiruvallur"
          ],
          [
           "district",
           "chengalpattu"
          ],
          [
           "district",
           "coimbatore"
          ],
          [
           "district",
           "kancheepuram"
          ],
          [
           "district",
           "tiruppur"
          ],
          [
           "district",
           "salem"
          ],
          [
           "district",
           "madurai"
          ],
          [
           "district",
           "krishnagiri"
          ],
          [
           "district",
           "tiruchirappalli"
          ],
          [
           "district",
           "chennai"
          ],
          [
           "district",
           "thiruvallur"
          ],
          [
           "district",
           "coimbatore"
          ],
          [
           "district",
           "chengalpattu"
          ],
          [
           "district",
           "kancheepuram"
          ],
          [
           "district",
           "tiruppur"
          ],
          [
           "district",
           "salem"
          ],
          [
           "district",
           "madurai"
          ],
          [
           "district",
           "krishnagiri"
          ],
          [
           "district",
           "tiruchirappalli"
          ],
          [
           "district",
           "chennai"
          ],
          [
           "district",
           "thiruvallur"
          ],
          [
           "district",
           "coimbatore"
          ],
          [
           "district",
           "chengalpattu"
          ],
          [
           "district",
           "kancheepuram"
          ],
          [
           "district",
           "tiruppur"
          ],
          [
           "district",
           "salem"
          ],
          [
           "district",
           "madurai"
          ],
          [
           "district",
           "krishnagiri"
          ],
          [
           "district",
           "tiruchirappalli"
          ],
          [
           "district",
           "chennai"
          ],
          [
           "district",
           "thiruvallur"
          ],
          [
           "district",
           "coimbatore"
          ],
          [
           "district",
           "chengalpattu"
          ],
          [
           "district",
           "kancheepuram"
          ],
          [
           "district",
           "tiruppur"
          ],
          [
           "district",
           "salem"
          ],
          [
           "district",
           "madurai"
          ],
          [
           "district",
           "krishnagiri"
          ],
          [
           "district",
           "tiruchirappalli"
          ],
          [
           "district",
           "chennai"
          ],
          [
           "district",
           "thiruvallur"
          ],
          [
           "district",
           "coimbatore"
          ],
          [
           "district",
           "chengalpattu"
          ],
          [
           "district",
           "kancheepuram"
          ],
          [
           "district",
           "tiruppur"
          ],
          [
           "district",
           "salem"
          ],
          [
           "district",
           "madurai"
          ],
          [
           "district",
           "krishnagiri"
          ],
          [
           "district",
           "tiruchirappalli"
          ],
          [
           "district",
           "chennai"
          ],
          [
           "district",
           "thiruvallur"
          ],
          [
           "district",
           "coimbatore"
          ],
          [
           "district",
           "chengalpattu"
          ],
          [
           "district",
           "kancheepuram"
          ],
          [
           "district",
           "tiruppur"
          ],
          [
           "district",
           "salem"
          ],
          [
           "district",
           "madurai"
          ],
          [
           "district",
           "krishnagiri"
          ],
          [
           "district",
           "tiruchirappalli"
          ],
          [
           "district",
           "chennai"
          ],
          [
           "district",
           "thiruvallur"
          ],
          [
           "district",
           "coimbatore"
          ],
          [
           "district",
           "chengalpattu"
          ],
          [
           "district",
           "kancheepuram"
          ],
          [
           "district",
           "tiruppur"
          ],
          [
           "district",
           "salem"
          ],
          [
           "district",
           "madurai"
          ],
          [
           "district",
           "krishnagiri"
          ],
          [
           "district",
           "tiruchirappalli"
          ],
          [
           "district",
           "chennai"
          ],
          [
           "district",
           "thiruvallur"
          ],
          [
           "district",
           "coimbatore"
          ],
          [
           "district",
           "chengalpattu"
          ],
          [
           "district",
           "kancheepuram"
          ],
          [
           "district",
           "tiruppur"
          ],
          [
           "district",
           "salem"
          ],
          [
           "district",
           "madurai"
          ],
          [
           "district",
           "krishnagiri"
          ],
          [
           "district",
           "tiruchirappalli"
          ],
          [
           "district",
           "chennai"
          ],
          [
           "district",
           "thiruvallur"
          ],
          [
           "district",
           "coimbatore"
          ],
          [
           "district",
           "chengalpattu"
          ],
          [
           "district",
           "kancheepuram"
          ],
          [
           "district",
           "tiruppur"
          ],
          [
           "district",
           "salem"
          ],
          [
           "district",
           "madurai"
          ],
          [
           "district",
           "krishnagiri"
          ],
          [
           "district",
           "tiruchirappalli"
          ],
          [
           "district",
           "chennai"
          ],
          [
           "district",
           "thiruvallur"
          ],
          [
           "district",
           "coimbatore"
          ],
          [
           "district",
           "chengalpattu"
          ],
          [
           "district",
           "kancheepuram"
          ],
          [
           "district",
           "tiruppur"
          ],
          [
           "district",
           "salem"
          ],
          [
           "district",
           "madurai"
          ],
          [
           "district",
           "krishnagiri"
          ],
          [
           "district",
           "tiruchirappalli"
          ],
          [
           "district",
           "chennai"
          ],
          [
           "district",
           "thiruvallur"
          ],
          [
           "district",
           "coimbatore"
          ],
          [
           "district",
           "chengalpattu"
          ],
          [
           "district",
           "kancheepuram"
          ],
          [
           "district",
           "tiruppur"
          ],
          [
           "district",
           "salem"
          ],
          [
           "district",
           "madurai"
          ],
          [
           "district",
           "krishnagiri"
          ],
          [
           "district",
           "tiruchirappalli"
          ],
          [
           "district",
           "chennai"
          ],
          [
           "district",
           "thiruvallur"
          ],
          [
           "district",
           "coimbatore"
          ],
          [
           "district",
           "chengalpattu"
          ],
          [
           "district",
           "kancheepuram"
          ],
          [
           "district",
           "tiruppur"
          ],
          [
           "district",
           "salem"
          ],
          [
           "district",
           "madurai"
          ],
          [
           "district",
           "krishnagiri"
          ],
          [
           "district",
           "tiruchirappalli"
          ],
          [
           "district",
           "chennai"
          ],
          [
           "district",
           "thiruvallur"
          ],
          [
           "district",
           "coimbatore"
          ],
          [
           "district",
           "chengalpattu"
          ],
          [
           "district",
           "kancheepuram"
          ],
          [
           "district",
           "tiruppur"
          ],
          [
           "district",
           "salem"
          ],
          [
           "district",
           "madurai"
          ],
          [
           "district",
           "krishnagiri"
          ],
          [
           "district",
           "tiruchirappalli"
          ],
          [
           "district",
           "chennai"
          ],
          [
           "district",
           "thiruvallur"
          ],
          [
           "district",
           "coimbatore"
          ],
          [
           "district",
           "chengalpattu"
          ],
          [
           "district",
           "kancheepuram"
          ],
          [
           "district",
           "tiruppur"
          ],
          [
           "district",
           "salem"
          ],
          [
           "district",
           "madurai"
          ],
          [
           "district",
           "krishnagiri"
          ],
          [
           "district",
           "tiruchirappalli"
          ],
          [
           "district",
           "chennai"
          ],
          [
           "district",
           "thiruvallur"
          ],
          [
           "district",
           "coimbatore"
          ],
          [
           "district",
           "chengalpattu"
          ],
          [
           "district",
           "kancheepuram"
          ],
          [
           "district",
           "tiruppur"
          ],
          [
           "district",
           "salem"
          ],
          [
           "district",
           "madurai"
          ],
          [
           "district",
           "krishnagiri"
          ],
          [
           "district",
           "tiruchirappalli"
          ],
          [
           "district",
           "chennai"
          ],
          [
           "district",
           "thiruvallur"
          ],
          [
           "district",
           "coimbatore"
          ],
          [
           "district",
           "chengalpattu"
          ],
          [
           "district",
           "kancheepuram"
          ],
          [
           "district",
           "tiruppur"
          ],
          [
           "district",
           "salem"
          ],
          [
           "district",
           "madurai"
          ],
          [
           "district",
           "krishnagiri"
          ],
          [
           "district",
           "tiruchirappalli"
          ],
          [
           "district",
           "chennai"
          ],
          [
           "district",
           "thiruvallur"
          ],
          [
           "district",
           "coimbatore"
          ],
          [
           "district",
           "chengalpattu"
          ],
          [
           "district",
           "kancheepuram"
          ],
          [
           "district",
           "tiruppur"
          ],
          [
           "district",
           "salem"
          ],
          [
           "district",
           "madurai"
          ],
          [
           "district",
           "krishnagiri"
          ],
          [
           "district",
           "tiruchirappalli"
          ],
          [
           "district",
           "chennai"
          ],
          [
           "district",
           "coimbatore"
          ],
          [
           "district",
           "chengalpattu"
          ],
          [
           "district",
           "tiruppur"
          ],
          [
           "district",
           "tiruvallur"
          ],
          [
           "district",
           "salem"
          ],
          [
           "district",
           "krishnagiri"
          ],
          [
           "district",
           "madurai"
          ],
          [
           "district",
           "tiruchirappalli"
          ],
          [
           "district",
           "erode"
          ],
          [
           "district",
           "chennai"
          ],
          [
           "district",
           "coimbatore"
          ],
          [
           "district",
           "chengalpattu"
          ],
          [
           "district",
           "tiruppur"
          ],
          [
           "district",
           "tiruvallur"
          ],
          [
           "district",
           "salem"
          ],
          [
           "district",
           "krishnagiri"
          ],
          [
           "district",
           "madurai"
          ],
          [
           "district",
           "tiruchirappalli"
          ],
          [
           "district",
           "erode"
          ]
         ],
         "hovertemplate": "Quater=%{x}<br>Registered_Users=%{marker.color}<br>Entity_Level=%{customdata[0]}<br>District=%{customdata[1]}<extra></extra>",
         "legendgroup": "",
         "marker": {
          "color": {
           "bdata": "pHQEAEZKAwCqSAMAQpkCAKAUAgDgWAEAZFYBAIYbAQCOBQEAFvMAAMUfBgCylAQAUHYEAJa6AwCn4AIAF/YBAG7vAQDlnQEASnoBABRkAQCizAcAtNIFAB2fBQD92wQAcakDAKOgAgCJggIAUBsCAAH3AQBt0wEAfIQKAA7bBwDJYQcAclUGADfaBAC1dwMARUkDAKbLAgDHogIABnECAHqsDAD0jAkA/dEIAPaOBwBD4AUAzS0EAFjuAwAPbgMAez8DAAb1AgDjzA4AGjMLAAEuCgDg6QgAJ9QGAP7yBADRmwQAhBgEADrcAwD+gQMAjqIQAOmiDADoWwsAazcKAJitBwBgqgUA8zgFAIGqBACubgQAH/8DAGKQEgBYQw4Ah6gMAPi1CwBGnggAroYGAJ30BQACXAUASh0FAGaRBABadRQA6uQPAMvsDQDgQQ0AuJAJAPl0BwC9vgYAKiQGANHLBQB1LwUAMuwVAGpmEQA58w4A754OAPNbCgDRZggAoJ4HAE/3BgD4eAYAytgFAMjlFwB7PRMAEGIQAEc9EAD1WwsA74oJAHqeCABf4QcAOFUHAEWcBgDHaxoAXH0VAAFkEgAg3REAF6cMAFnXCgCjvwkAbOIIABdUCAAkcQcAKXUcAOc6FwBN5hMAnjgTAM6rDQDqxwsAkZMKAJ2fCQAPCwkAMw0IAANXHgBW0xgA1UMVAKOCFAD+mg4ACKMMAKZUCwDbTAoAN7EJAKSfCAA7aiAAZJ0aAE7NFgBX8hUAc6YPAGmbDQAFLgwAHRALAB1uCgDORAkAYoEiAIBlHADiUhgAd2IXAE6yEAAykQ4ASAQNAFrRCwCKJwsAh+cJAFtxJADWER4AOL4ZALm8GAA/rhEAFHkPAJDPDQDYhgwApdcLALKBCgAUSyYAiqofAJAYGwCgAxoAjZ4SAJBVEAArjw4AJjINAHh9DAD3EgsA2jcoADZTIQCHfxwAKlYbAJOYEwAaOBEA51UPAB/jDQAXKA0Av6ULAI8pKgCp8SIAYdcdAMOgHAAdjRQAxg0SAMMNEACLjQ4A+sYNABYwDAAtCSwAPYckAKMoHwDp5R0A2HwVALXjEgCqyRAAojQPAKlpDgA+uwwA7pUtAJ3qJQDjVCAAqf8eAJZOFgBOrhMACngRAELODwD4/w4AwT8NAPBILwBPaCcAZZIhABwvIAB5LhcAFXoUAGIsEgCMbRAAWpwPAIjHDQCN5zAAYdUoAPHBIgAlUCEAqwUYADxBFQCl3BIAGAcRAEAwEACpSw4AeroyAMZxKgAtGCQAbZgiAAX5GABrIRYAC6MTAOi0EQBw2BAAgd8OAPaZNACDEiwAc3AlABDjIwCZ7BkAhv0WAMhmFABZYxIAln8RABdyDwDiNFIAzAwoAPdkIgBBqxkAjzMZANEZFgA++xIAQsISADuWDwBdMw4AgI9UAL46KQDKZSMAzWkaAL/qGQCGxhYAkJETAK1SEwDQERAAxZ8OAA==",
           "dtype": "i4"
          },
          "coloraxis": "coloraxis",
          "pattern": {
           "shape": ""
          }
         },
         "name": "",
         "orientation": "v",
         "showlegend": false,
         "textposition": "auto",
         "type": "bar",
         "x": {
          "bdata": "AQEBAQEBAQEBAQICAgICAgICAgIDAwMDAwMDAwMDBAQEBAQEBAQEBAEBAQEBAQEBAQECAgICAgICAgICAwMDAwMDAwMDAwQEBAQEBAQEBAQBAQEBAQEBAQEBAgICAgICAgICAgMDAwMDAwMDAwMEBAQEBAQEBAQEAQEBAQEBAQEBAQICAgICAgICAgIDAwMDAwMDAwMDBAQEBAQEBAQEBAEBAQEBAQEBAQECAgICAgICAgICAwMDAwMDAwMDAwQEBAQEBAQEBAQBAQEBAQEBAQEBAgICAgICAgICAgMDAwMDAwMDAwMEBAQEBAQEBAQEAQEBAQEBAQEBAQICAgICAgICAgIDAwMDAwMDAwMDBAQEBAQEBAQEBA==",
          "dtype": "i1"
         },
         "xaxis": "x",
         "y": {
          "bdata": "pHQEAEZKAwCqSAMAQpkCAKAUAgDgWAEAZFYBAIYbAQCOBQEAFvMAAMUfBgCylAQAUHYEAJa6AwCn4AIAF/YBAG7vAQDlnQEASnoBABRkAQCizAcAtNIFAB2fBQD92wQAcakDAKOgAgCJggIAUBsCAAH3AQBt0wEAfIQKAA7bBwDJYQcAclUGADfaBAC1dwMARUkDAKbLAgDHogIABnECAHqsDAD0jAkA/dEIAPaOBwBD4AUAzS0EAFjuAwAPbgMAez8DAAb1AgDjzA4AGjMLAAEuCgDg6QgAJ9QGAP7yBADRmwQAhBgEADrcAwD+gQMAjqIQAOmiDADoWwsAazcKAJitBwBgqgUA8zgFAIGqBACubgQAH/8DAGKQEgBYQw4Ah6gMAPi1CwBGnggAroYGAJ30BQACXAUASh0FAGaRBABadRQA6uQPAMvsDQDgQQ0AuJAJAPl0BwC9vgYAKiQGANHLBQB1LwUAMuwVAGpmEQA58w4A754OAPNbCgDRZggAoJ4HAE/3BgD4eAYAytgFAMjlFwB7PRMAEGIQAEc9EAD1WwsA74oJAHqeCABf4QcAOFUHAEWcBgDHaxoAXH0VAAFkEgAg3REAF6cMAFnXCgCjvwkAbOIIABdUCAAkcQcAKXUcAOc6FwBN5hMAnjgTAM6rDQDqxwsAkZMKAJ2fCQAPCwkAMw0IAANXHgBW0xgA1UMVAKOCFAD+mg4ACKMMAKZUCwDbTAoAN7EJAKSfCAA7aiAAZJ0aAE7NFgBX8hUAc6YPAGmbDQAFLgwAHRALAB1uCgDORAkAYoEiAIBlHADiUhgAd2IXAE6yEAAykQ4ASAQNAFrRCwCKJwsAh+cJAFtxJADWER4AOL4ZALm8GAA/rhEAFHkPAJDPDQDYhgwApdcLALKBCgAUSyYAiqofAJAYGwCgAxoAjZ4SAJBVEAArjw4AJjINAHh9DAD3EgsA2jcoADZTIQCHfxwAKlYbAJOYEwAaOBEA51UPAB/jDQAXKA0Av6ULAI8pKgCp8SIAYdcdAMOgHAAdjRQAxg0SAMMNEACLjQ4A+sYNABYwDAAtCSwAPYckAKMoHwDp5R0A2HwVALXjEgCqyRAAojQPAKlpDgA+uwwA7pUtAJ3qJQDjVCAAqf8eAJZOFgBOrhMACngRAELODwD4/w4AwT8NAPBILwBPaCcAZZIhABwvIAB5LhcAFXoUAGIsEgCMbRAAWpwPAIjHDQCN5zAAYdUoAPHBIgAlUCEAqwUYADxBFQCl3BIAGAcRAEAwEACpSw4AeroyAMZxKgAtGCQAbZgiAAX5GABrIRYAC6MTAOi0EQBw2BAAgd8OAPaZNACDEiwAc3AlABDjIwCZ7BkAhv0WAMhmFABZYxIAln8RABdyDwDiNFIAzAwoAPdkIgBBqxkAjzMZANEZFgA++xIAQsISADuWDwBdMw4AgI9UAL46KQDKZSMAzWkaAL/qGQCGxhYAkJETAK1SEwDQERAAxZ8OAA==",
          "dtype": "i4"
         },
         "yaxis": "y"
        }
       ],
       "layout": {
        "barmode": "relative",
        "coloraxis": {
         "colorbar": {
          "title": {
           "text": "Registered_Users"
          }
         },
         "colorscale": [
          [
           0,
           "#0d0887"
          ],
          [
           0.1111111111111111,
           "#46039f"
          ],
          [
           0.2222222222222222,
           "#7201a8"
          ],
          [
           0.3333333333333333,
           "#9c179e"
          ],
          [
           0.4444444444444444,
           "#bd3786"
          ],
          [
           0.5555555555555556,
           "#d8576b"
          ],
          [
           0.6666666666666666,
           "#ed7953"
          ],
          [
           0.7777777777777778,
           "#fb9f3a"
          ],
          [
           0.8888888888888888,
           "#fdca26"
          ],
          [
           1,
           "#f0f921"
          ]
         ]
        },
        "height": 800,
        "legend": {
         "tracegroupgap": 0
        },
        "template": {
         "data": {
          "bar": [
           {
            "error_x": {
             "color": "#2a3f5f"
            },
            "error_y": {
             "color": "#2a3f5f"
            },
            "marker": {
             "line": {
              "color": "#E5ECF6",
              "width": 0.5
             },
             "pattern": {
              "fillmode": "overlay",
              "size": 10,
              "solidity": 0.2
             }
            },
            "type": "bar"
           }
          ],
          "barpolar": [
           {
            "marker": {
             "line": {
              "color": "#E5ECF6",
              "width": 0.5
             },
             "pattern": {
              "fillmode": "overlay",
              "size": 10,
              "solidity": 0.2
             }
            },
            "type": "barpolar"
           }
          ],
          "carpet": [
           {
            "aaxis": {
             "endlinecolor": "#2a3f5f",
             "gridcolor": "white",
             "linecolor": "white",
             "minorgridcolor": "white",
             "startlinecolor": "#2a3f5f"
            },
            "baxis": {
             "endlinecolor": "#2a3f5f",
             "gridcolor": "white",
             "linecolor": "white",
             "minorgridcolor": "white",
             "startlinecolor": "#2a3f5f"
            },
            "type": "carpet"
           }
          ],
          "choropleth": [
           {
            "colorbar": {
             "outlinewidth": 0,
             "ticks": ""
            },
            "type": "choropleth"
           }
          ],
          "contour": [
           {
            "colorbar": {
             "outlinewidth": 0,
             "ticks": ""
            },
            "colorscale": [
             [
              0,
              "#0d0887"
             ],
             [
              0.1111111111111111,
              "#46039f"
             ],
             [
              0.2222222222222222,
              "#7201a8"
             ],
             [
              0.3333333333333333,
              "#9c179e"
             ],
             [
              0.4444444444444444,
              "#bd3786"
             ],
             [
              0.5555555555555556,
              "#d8576b"
             ],
             [
              0.6666666666666666,
              "#ed7953"
             ],
             [
              0.7777777777777778,
              "#fb9f3a"
             ],
             [
              0.8888888888888888,
              "#fdca26"
             ],
             [
              1,
              "#f0f921"
             ]
            ],
            "type": "contour"
           }
          ],
          "contourcarpet": [
           {
            "colorbar": {
             "outlinewidth": 0,
             "ticks": ""
            },
            "type": "contourcarpet"
           }
          ],
          "heatmap": [
           {
            "colorbar": {
             "outlinewidth": 0,
             "ticks": ""
            },
            "colorscale": [
             [
              0,
              "#0d0887"
             ],
             [
              0.1111111111111111,
              "#46039f"
             ],
             [
              0.2222222222222222,
              "#7201a8"
             ],
             [
              0.3333333333333333,
              "#9c179e"
             ],
             [
              0.4444444444444444,
              "#bd3786"
             ],
             [
              0.5555555555555556,
              "#d8576b"
             ],
             [
              0.6666666666666666,
              "#ed7953"
             ],
             [
              0.7777777777777778,
              "#fb9f3a"
             ],
             [
              0.8888888888888888,
              "#fdca26"
             ],
             [
              1,
              "#f0f921"
             ]
            ],
            "type": "heatmap"
           }
          ],
          "histogram": [
           {
            "marker": {
             "pattern": {
              "fillmode": "overlay",
              "size": 10,
              "solidity": 0.2
             }
            },
            "type": "histogram"
           }
          ],
          "histogram2d": [
           {
            "colorbar": {
             "outlinewidth": 0,
             "ticks": ""
            },
            "colorscale": [
             [
              0,
              "#0d0887"
             ],
             [
              0.1111111111111111,
              "#46039f"
             ],
             [
              0.2222222222222222,
              "#7201a8"
             ],
             [
              0.3333333333333333,
              "#9c179e"
             ],
             [
              0.4444444444444444,
              "#bd3786"
             ],
             [
              0.5555555555555556,
              "#d8576b"
             ],
             [
              0.6666666666666666,
              "#ed7953"
             ],
             [
              0.7777777777777778,
              "#fb9f3a"
             ],
             [
              0.8888888888888888,
              "#fdca26"
             ],
             [
              1,
              "#f0f921"
             ]
            ],
            "type": "histogram2d"
           }
          ],
          "histogram2dcontour": [
           {
            "colorbar": {
             "outlinewidth": 0,
             "ticks": ""
            },
            "colorscale": [
             [
              0,
              "#0d0887"
             ],
             [
              0.1111111111111111,
              "#46039f"
             ],
             [
              0.2222222222222222,
              "#7201a8"
             ],
             [
              0.3333333333333333,
              "#9c179e"
             ],
             [
              0.4444444444444444,
              "#bd3786"
             ],
             [
              0.5555555555555556,
              "#d8576b"
             ],
             [
              0.6666666666666666,
              "#ed7953"
             ],
             [
              0.7777777777777778,
              "#fb9f3a"
             ],
             [
              0.8888888888888888,
              "#fdca26"
             ],
             [
              1,
              "#f0f921"
             ]
            ],
            "type": "histogram2dcontour"
           }
          ],
          "mesh3d": [
           {
            "colorbar": {
             "outlinewidth": 0,
             "ticks": ""
            },
            "type": "mesh3d"
           }
          ],
          "parcoords": [
           {
            "line": {
             "colorbar": {
              "outlinewidth": 0,
              "ticks": ""
             }
            },
            "type": "parcoords"
           }
          ],
          "pie": [
           {
            "automargin": true,
            "type": "pie"
           }
          ],
          "scatter": [
           {
            "fillpattern": {
             "fillmode": "overlay",
             "size": 10,
             "solidity": 0.2
            },
            "type": "scatter"
           }
          ],
          "scatter3d": [
           {
            "line": {
             "colorbar": {
              "outlinewidth": 0,
              "ticks": ""
             }
            },
            "marker": {
             "colorbar": {
              "outlinewidth": 0,
              "ticks": ""
             }
            },
            "type": "scatter3d"
           }
          ],
          "scattercarpet": [
           {
            "marker": {
             "colorbar": {
              "outlinewidth": 0,
              "ticks": ""
             }
            },
            "type": "scattercarpet"
           }
          ],
          "scattergeo": [
           {
            "marker": {
             "colorbar": {
              "outlinewidth": 0,
              "ticks": ""
             }
            },
            "type": "scattergeo"
           }
          ],
          "scattergl": [
           {
            "marker": {
             "colorbar": {
              "outlinewidth": 0,
              "ticks": ""
             }
            },
            "type": "scattergl"
           }
          ],
          "scattermap": [
           {
            "marker": {
             "colorbar": {
              "outlinewidth": 0,
              "ticks": ""
             }
            },
            "type": "scattermap"
           }
          ],
          "scattermapbox": [
           {
            "marker": {
             "colorbar": {
              "outlinewidth": 0,
              "ticks": ""
             }
            },
            "type": "scattermapbox"
           }
          ],
          "scatterpolar": [
           {
            "marker": {
             "colorbar": {
              "outlinewidth": 0,
              "ticks": ""
             }
            },
            "type": "scatterpolar"
           }
          ],
          "scatterpolargl": [
           {
            "marker": {
             "colorbar": {
              "outlinewidth": 0,
              "ticks": ""
             }
            },
            "type": "scatterpolargl"
           }
          ],
          "scatterternary": [
           {
            "marker": {
             "colorbar": {
              "outlinewidth": 0,
              "ticks": ""
             }
            },
            "type": "scatterternary"
           }
          ],
          "surface": [
           {
            "colorbar": {
             "outlinewidth": 0,
             "ticks": ""
            },
            "colorscale": [
             [
              0,
              "#0d0887"
             ],
             [
              0.1111111111111111,
              "#46039f"
             ],
             [
              0.2222222222222222,
              "#7201a8"
             ],
             [
              0.3333333333333333,
              "#9c179e"
             ],
             [
              0.4444444444444444,
              "#bd3786"
             ],
             [
              0.5555555555555556,
              "#d8576b"
             ],
             [
              0.6666666666666666,
              "#ed7953"
             ],
             [
              0.7777777777777778,
              "#fb9f3a"
             ],
             [
              0.8888888888888888,
              "#fdca26"
             ],
             [
              1,
              "#f0f921"
             ]
            ],
            "type": "surface"
           }
          ],
          "table": [
           {
            "cells": {
             "fill": {
              "color": "#EBF0F8"
             },
             "line": {
              "color": "white"
             }
            },
            "header": {
             "fill": {
              "color": "#C8D4E3"
             },
             "line": {
              "color": "white"
             }
            },
            "type": "table"
           }
          ]
         },
         "layout": {
          "annotationdefaults": {
           "arrowcolor": "#2a3f5f",
           "arrowhead": 0,
           "arrowwidth": 1
          },
          "autotypenumbers": "strict",
          "coloraxis": {
           "colorbar": {
            "outlinewidth": 0,
            "ticks": ""
           }
          },
          "colorscale": {
           "diverging": [
            [
             0,
             "#8e0152"
            ],
            [
             0.1,
             "#c51b7d"
            ],
            [
             0.2,
             "#de77ae"
            ],
            [
             0.3,
             "#f1b6da"
            ],
            [
             0.4,
             "#fde0ef"
            ],
            [
             0.5,
             "#f7f7f7"
            ],
            [
             0.6,
             "#e6f5d0"
            ],
            [
             0.7,
             "#b8e186"
            ],
            [
             0.8,
             "#7fbc41"
            ],
            [
             0.9,
             "#4d9221"
            ],
            [
             1,
             "#276419"
            ]
           ],
           "sequential": [
            [
             0,
             "#0d0887"
            ],
            [
             0.1111111111111111,
             "#46039f"
            ],
            [
             0.2222222222222222,
             "#7201a8"
            ],
            [
             0.3333333333333333,
             "#9c179e"
            ],
            [
             0.4444444444444444,
             "#bd3786"
            ],
            [
             0.5555555555555556,
             "#d8576b"
            ],
            [
             0.6666666666666666,
             "#ed7953"
            ],
            [
             0.7777777777777778,
             "#fb9f3a"
            ],
            [
             0.8888888888888888,
             "#fdca26"
            ],
            [
             1,
             "#f0f921"
            ]
           ],
           "sequentialminus": [
            [
             0,
             "#0d0887"
            ],
            [
             0.1111111111111111,
             "#46039f"
            ],
            [
             0.2222222222222222,
             "#7201a8"
            ],
            [
             0.3333333333333333,
             "#9c179e"
            ],
            [
             0.4444444444444444,
             "#bd3786"
            ],
            [
             0.5555555555555556,
             "#d8576b"
            ],
            [
             0.6666666666666666,
             "#ed7953"
            ],
            [
             0.7777777777777778,
             "#fb9f3a"
            ],
            [
             0.8888888888888888,
             "#fdca26"
            ],
            [
             1,
             "#f0f921"
            ]
           ]
          },
          "colorway": [
           "#636efa",
           "#EF553B",
           "#00cc96",
           "#ab63fa",
           "#FFA15A",
           "#19d3f3",
           "#FF6692",
           "#B6E880",
           "#FF97FF",
           "#FECB52"
          ],
          "font": {
           "color": "#2a3f5f"
          },
          "geo": {
           "bgcolor": "white",
           "lakecolor": "white",
           "landcolor": "#E5ECF6",
           "showlakes": true,
           "showland": true,
           "subunitcolor": "white"
          },
          "hoverlabel": {
           "align": "left"
          },
          "hovermode": "closest",
          "mapbox": {
           "style": "light"
          },
          "paper_bgcolor": "white",
          "plot_bgcolor": "#E5ECF6",
          "polar": {
           "angularaxis": {
            "gridcolor": "white",
            "linecolor": "white",
            "ticks": ""
           },
           "bgcolor": "#E5ECF6",
           "radialaxis": {
            "gridcolor": "white",
            "linecolor": "white",
            "ticks": ""
           }
          },
          "scene": {
           "xaxis": {
            "backgroundcolor": "#E5ECF6",
            "gridcolor": "white",
            "gridwidth": 2,
            "linecolor": "white",
            "showbackground": true,
            "ticks": "",
            "zerolinecolor": "white"
           },
           "yaxis": {
            "backgroundcolor": "#E5ECF6",
            "gridcolor": "white",
            "gridwidth": 2,
            "linecolor": "white",
            "showbackground": true,
            "ticks": "",
            "zerolinecolor": "white"
           },
           "zaxis": {
            "backgroundcolor": "#E5ECF6",
            "gridcolor": "white",
            "gridwidth": 2,
            "linecolor": "white",
            "showbackground": true,
            "ticks": "",
            "zerolinecolor": "white"
           }
          },
          "shapedefaults": {
           "line": {
            "color": "#2a3f5f"
           }
          },
          "ternary": {
           "aaxis": {
            "gridcolor": "white",
            "linecolor": "white",
            "ticks": ""
           },
           "baxis": {
            "gridcolor": "white",
            "linecolor": "white",
            "ticks": ""
           },
           "bgcolor": "#E5ECF6",
           "caxis": {
            "gridcolor": "white",
            "linecolor": "white",
            "ticks": ""
           }
          },
          "title": {
           "x": 0.05
          },
          "xaxis": {
           "automargin": true,
           "gridcolor": "white",
           "linecolor": "white",
           "ticks": "",
           "title": {
            "standoff": 15
           },
           "zerolinecolor": "white",
           "zerolinewidth": 2
          },
          "yaxis": {
           "automargin": true,
           "gridcolor": "white",
           "linecolor": "white",
           "ticks": "",
           "title": {
            "standoff": 15
           },
           "zerolinecolor": "white",
           "zerolinewidth": 2
          }
         }
        },
        "title": {
         "text": "REGISTERED USERS, PINCODE, DISTRICTS"
        },
        "width": 1000,
        "xaxis": {
         "anchor": "y",
         "domain": [
          0,
          1
         ],
         "title": {
          "text": "Quater"
         }
        },
        "yaxis": {
         "anchor": "x",
         "domain": [
          0,
          1
         ],
         "title": {
          "text": "Registered_Users"
         }
        }
       }
      }
     },
     "metadata": {},
     "output_type": "display_data"
    }
   ],
   "source": [
    "Top_user_plot_2(Top_user, \"Tamil Nadu\")"
   ]
  }
 ],
 "metadata": {
  "kernelspec": {
   "display_name": "phonepe_env",
   "language": "python",
   "name": "python3"
  },
  "language_info": {
   "codemirror_mode": {
    "name": "ipython",
    "version": 3
   },
   "file_extension": ".py",
   "mimetype": "text/x-python",
   "name": "python",
   "nbconvert_exporter": "python",
   "pygments_lexer": "ipython3",
   "version": "3.13.5"
  }
 },
 "nbformat": 4,
 "nbformat_minor": 5
}
